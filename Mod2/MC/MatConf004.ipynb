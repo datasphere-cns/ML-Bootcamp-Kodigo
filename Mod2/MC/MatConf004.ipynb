{
 "cells": [
  {
   "cell_type": "markdown",
   "id": "4b46e27d",
   "metadata": {},
   "source": [
    "# Clasificación del Tipo de Reparación a partir de los Repuestos Solicitados\n",
    "\n",
    "Este notebook simula pedidos de repuestos automotrices y clasifica el tipo de reparación (frenos, motor, suspensión o eléctrico) según los ítems solicitados."
   ]
  },
  {
   "cell_type": "code",
   "execution_count": 12,
   "id": "f17c4ea5-2b3e-4390-9c4d-b342f73594f8",
   "metadata": {},
   "outputs": [],
   "source": [
    "import pandas as pd\n",
    "import numpy as np\n",
    "from sklearn.model_selection import train_test_split\n",
    "from sklearn.tree import DecisionTreeClassifier\n",
    "from sklearn.metrics import confusion_matrix, accuracy_score, ConfusionMatrixDisplay\n",
    "from sklearn.utils import resample\n",
    "import matplotlib.pyplot as plt"
   ]
  },
  {
   "cell_type": "code",
   "execution_count": 13,
   "id": "550071aa-5cf5-480a-8494-7bba6ed78c89",
   "metadata": {},
   "outputs": [],
   "source": [
    "np.random.seed(42)"
   ]
  },
  {
   "cell_type": "code",
   "execution_count": 14,
   "id": "41f3c134",
   "metadata": {},
   "outputs": [
    {
     "data": {
      "text/html": [
       "<div>\n",
       "<style scoped>\n",
       "    .dataframe tbody tr th:only-of-type {\n",
       "        vertical-align: middle;\n",
       "    }\n",
       "\n",
       "    .dataframe tbody tr th {\n",
       "        vertical-align: top;\n",
       "    }\n",
       "\n",
       "    .dataframe thead th {\n",
       "        text-align: right;\n",
       "    }\n",
       "</style>\n",
       "<table border=\"1\" class=\"dataframe\">\n",
       "  <thead>\n",
       "    <tr style=\"text-align: right;\">\n",
       "      <th></th>\n",
       "      <th>brake_parts</th>\n",
       "      <th>engine_parts</th>\n",
       "      <th>suspension_parts</th>\n",
       "      <th>electrical_parts</th>\n",
       "      <th>repair_type</th>\n",
       "    </tr>\n",
       "  </thead>\n",
       "  <tbody>\n",
       "    <tr>\n",
       "      <th>0</th>\n",
       "      <td>1</td>\n",
       "      <td>2</td>\n",
       "      <td>0</td>\n",
       "      <td>0</td>\n",
       "      <td>1</td>\n",
       "    </tr>\n",
       "    <tr>\n",
       "      <th>1</th>\n",
       "      <td>2</td>\n",
       "      <td>2</td>\n",
       "      <td>4</td>\n",
       "      <td>0</td>\n",
       "      <td>2</td>\n",
       "    </tr>\n",
       "    <tr>\n",
       "      <th>2</th>\n",
       "      <td>0</td>\n",
       "      <td>2</td>\n",
       "      <td>0</td>\n",
       "      <td>2</td>\n",
       "      <td>1</td>\n",
       "    </tr>\n",
       "    <tr>\n",
       "      <th>3</th>\n",
       "      <td>0</td>\n",
       "      <td>0</td>\n",
       "      <td>1</td>\n",
       "      <td>1</td>\n",
       "      <td>2</td>\n",
       "    </tr>\n",
       "    <tr>\n",
       "      <th>4</th>\n",
       "      <td>3</td>\n",
       "      <td>0</td>\n",
       "      <td>1</td>\n",
       "      <td>1</td>\n",
       "      <td>0</td>\n",
       "    </tr>\n",
       "  </tbody>\n",
       "</table>\n",
       "</div>"
      ],
      "text/plain": [
       "   brake_parts  engine_parts  suspension_parts  electrical_parts  repair_type\n",
       "0            1             2                 0                 0            1\n",
       "1            2             2                 4                 0            2\n",
       "2            0             2                 0                 2            1\n",
       "3            0             0                 1                 1            2\n",
       "4            3             0                 1                 1            0"
      ]
     },
     "execution_count": 14,
     "metadata": {},
     "output_type": "execute_result"
    }
   ],
   "source": [
    "# 1. Crear dataset simulado de pedidos de repuestos\n",
    "n_samples = 1000\n",
    "\n",
    "df = pd.DataFrame({\n",
    "    'brake_parts': np.random.poisson(lam=1, size=n_samples),\n",
    "    'engine_parts': np.random.poisson(lam=1.5, size=n_samples),\n",
    "    'suspension_parts': np.random.poisson(lam=1, size=n_samples),\n",
    "    'electrical_parts': np.random.poisson(lam=0.8, size=n_samples),\n",
    "})\n",
    "\n",
    "# Definir etiqueta: tipo de reparación\n",
    "def assign_repair_type(row):\n",
    "    max_idx = np.argmax([\n",
    "        row['brake_parts'],\n",
    "        row['engine_parts'],\n",
    "        row['suspension_parts'],\n",
    "        row['electrical_parts']\n",
    "    ])\n",
    "    return max_idx\n",
    "\n",
    "df['repair_type'] = df.apply(assign_repair_type, axis=1)\n",
    "\n",
    "df.head()\n"
   ]
  },
  {
   "cell_type": "code",
   "execution_count": 15,
   "id": "e3bc3966-719d-4f12-91e6-04d2c756e5d1",
   "metadata": {},
   "outputs": [
    {
     "data": {
      "text/plain": [
       "repair_type\n",
       "1    412\n",
       "0    352\n",
       "2    159\n",
       "3     77\n",
       "Name: count, dtype: int64"
      ]
     },
     "execution_count": 15,
     "metadata": {},
     "output_type": "execute_result"
    }
   ],
   "source": [
    "df['repair_type'].value_counts()"
   ]
  },
  {
   "cell_type": "code",
   "execution_count": 16,
   "id": "bc45d82b",
   "metadata": {},
   "outputs": [],
   "source": [
    "# 2. Dividir en entrenamiento y prueba\n",
    "X = df.drop(columns='repair_type')\n",
    "y = df['repair_type']\n",
    "\n",
    "X_train, X_test, y_train, y_test = train_test_split(X, y, test_size=0.3, random_state=42, stratify=y)\n",
    "\n"
   ]
  },
  {
   "cell_type": "code",
   "execution_count": 17,
   "id": "c2c054e7-229d-4ee4-9f46-2b652b75dd09",
   "metadata": {},
   "outputs": [],
   "source": [
    "# 3. Balancear solo el conjunto de entrenamiento\n",
    "train_df = X_train.copy()\n",
    "train_df['repair_type'] = y_train\n",
    "\n",
    "balanced_train_df = pd.concat([\n",
    "    resample(train_df[train_df.repair_type == i], \n",
    "             replace=True, \n",
    "             n_samples=train_df['repair_type'].value_counts().max(), \n",
    "             random_state=42)\n",
    "    for i in train_df['repair_type'].unique()\n",
    "])\n",
    "\n",
    "X_train_bal = balanced_train_df.drop(columns='repair_type')\n",
    "y_train_bal = balanced_train_df['repair_type']"
   ]
  },
  {
   "cell_type": "code",
   "execution_count": 18,
   "id": "08b8ebec-ee39-48d9-9c1a-c86b2a84d452",
   "metadata": {},
   "outputs": [
    {
     "data": {
      "text/plain": [
       "repair_type\n",
       "0    289\n",
       "3    289\n",
       "1    289\n",
       "2    289\n",
       "Name: count, dtype: int64"
      ]
     },
     "execution_count": 18,
     "metadata": {},
     "output_type": "execute_result"
    }
   ],
   "source": [
    "balanced_train_df['repair_type'].value_counts()"
   ]
  },
  {
   "cell_type": "code",
   "execution_count": 19,
   "id": "f8fe4c18",
   "metadata": {},
   "outputs": [
    {
     "data": {
      "image/png": "[encoded data removed]",
      "text/plain": [
       "<Figure size 640x480 with 2 Axes>"
      ]
     },
     "metadata": {},
     "output_type": "display_data"
    }
   ],
   "source": [
    "# 4. Entrenar el modelo\n",
    "model = DecisionTreeClassifier(random_state=42)\n",
    "model.fit(X_train_bal, y_train_bal)\n",
    "\n",
    "# 5. Evaluar en test original\n",
    "y_pred = model.predict(X_test)\n",
    "cm = confusion_matrix(y_test, y_pred)\n",
    "acc = accuracy_score(y_test, y_pred)\n",
    "\n",
    "# 6. Mostrar matriz de confusión\n",
    "disp = ConfusionMatrixDisplay(confusion_matrix=cm, display_labels=[\"Frenos\", \"Motor\", \"Suspensión\", \"Eléctrico\"])\n",
    "disp.plot(cmap=\"Blues\")\n",
    "plt.title(f\"Matriz de Confusión - Accuracy: {acc:.2f}\")\n",
    "plt.show()\n"
   ]
  }
 ],
 "metadata": {
  "kernelspec": {
   "display_name": "Python 3 (ipykernel)",
   "language": "python",
   "name": "python3"
  },
  "language_info": {
   "codemirror_mode": {
    "name": "ipython",
    "version": 3
   },
   "file_extension": ".py",
   "mimetype": "text/x-python",
   "name": "python",
   "nbconvert_exporter": "python",
   "pygments_lexer": "ipython3",
   "version": "3.10.4"
  }
 },
 "nbformat": 4,
 "nbformat_minor": 5
}
