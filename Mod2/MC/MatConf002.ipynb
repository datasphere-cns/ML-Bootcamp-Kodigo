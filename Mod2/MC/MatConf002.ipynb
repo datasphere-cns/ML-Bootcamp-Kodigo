{
 "cells": [
  {
   "cell_type": "markdown",
   "id": "e3080a84",
   "metadata": {},
   "source": [
    "# Detección de Fraude con Árbol de Decisión y Matriz de Confusión"
   ]
  },
  {
   "cell_type": "markdown",
   "id": "ed42c802",
   "metadata": {},
   "source": [
    "\n",
    "Este notebook genera un conjunto de datos simulado de transacciones con tarjetas de crédito, marcando aquellas que son fraude. Luego, se realiza un balanceo de clases, se entrena un árbol de decisión y se evalúa el modelo con una matriz de confusión y el accuracy.\n"
   ]
  },
  {
   "cell_type": "markdown",
   "id": "c95b4712-381a-4bb5-b198-909458639150",
   "metadata": {},
   "source": [
    "# Diccionario de Datos - Dataset de Transacciones de Tarjeta de Crédito\n",
    "\n",
    "Este dataset simulado contiene información sobre transacciones con tarjetas de crédito, incluyendo indicadores relevantes para la detección de fraude.\n",
    "\n",
    "| Columna                     | Tipo       | Descripción                                                                 |\n",
    "|----------------------------|------------|-----------------------------------------------------------------------------|\n",
    "| `amount`                   | `float`    | Monto en dólares de la transacción. Simulado con una distribución exponencial para reflejar que la mayoría de transacciones son pequeñas. |\n",
    "| `time_since_last_transaction` | `float` | Tiempo (en minutos) desde la última transacción del mismo usuario. Valores altos pueden indicar comportamiento inusual. |\n",
    "| `is_foreign_transaction`   | `int` (0/1)| Indica si la transacción se realizó fuera del país (`1` = sí, `0` = no). |\n",
    "| `is_high_risk_country`     | `int` (0/1)| Indica si la transacción proviene de un país clasificado como de alto riesgo (`1` = sí, `0` = no). |\n",
    "| `has_chip`                 | `int` (0/1)| Indica si la tarjeta utilizada tenía chip (`1`) o fue deslizada (`0`). Las tarjetas con chip son más seguras. |\n",
    "| `merchant_risk_score`      | `float`    | Puntaje entre 0 y 1 que indica qué tan riesgoso es el comercio donde se hizo la compra. |\n",
    "| `is_fraud`                 | `int` (0/1)| Etiqueta de la clase objetivo: indica si la transacción fue fraudulenta (`1`) o legítima (`0`). |\n"
   ]
  },
  {
   "cell_type": "code",
   "execution_count": 2,
   "id": "fe859bfe-0b26-4cb5-89d2-e17a5f284f7a",
   "metadata": {},
   "outputs": [],
   "source": [
    "import pandas as pd\n",
    "import numpy as np\n",
    "from sklearn.model_selection import train_test_split\n",
    "from sklearn.tree import DecisionTreeClassifier\n",
    "from sklearn.metrics import confusion_matrix, accuracy_score, ConfusionMatrixDisplay\n",
    "from sklearn.utils import resample\n",
    "import matplotlib.pyplot as plt"
   ]
  },
  {
   "cell_type": "code",
   "execution_count": 3,
   "id": "d6e1c942-69dc-4803-bdd0-9d89b31025a5",
   "metadata": {},
   "outputs": [],
   "source": [
    "# 1. Generar datos dummy\n",
    "np.random.seed(42)\n",
    "n_samples = 1000"
   ]
  },
  {
   "cell_type": "code",
   "execution_count": 4,
   "id": "45b8828c",
   "metadata": {},
   "outputs": [],
   "source": [
    "amount = np.random.exponential(scale=100, size=n_samples)\n",
    "time_since_last_transaction = np.random.exponential(scale=30, size=n_samples)\n",
    "is_foreign_transaction = np.random.choice([0, 1], size=n_samples, p=[0.95, 0.05])\n",
    "is_high_risk_country = np.random.choice([0, 1], size=n_samples, p=[0.97, 0.03])\n",
    "has_chip = np.random.choice([0, 1], size=n_samples, p=[0.9, 0.1])\n",
    "merchant_risk_score = np.random.uniform(0, 1, size=n_samples)\n",
    "fraud = np.random.choice([0, 1], size=n_samples, p=[0.95, 0.05])"
   ]
  },
  {
   "cell_type": "code",
   "execution_count": 5,
   "id": "f2c26eaf-1c15-4f1c-985c-454f58822a98",
   "metadata": {},
   "outputs": [],
   "source": [
    "df = pd.DataFrame({\n",
    "    'amount': amount,\n",
    "    'time_since_last_transaction': time_since_last_transaction,\n",
    "    'is_foreign_transaction': is_foreign_transaction,\n",
    "    'is_high_risk_country': is_high_risk_country,\n",
    "    'has_chip': has_chip,\n",
    "    'merchant_risk_score': merchant_risk_score,\n",
    "    'is_fraud': fraud\n",
    "})"
   ]
  },
  {
   "cell_type": "code",
   "execution_count": 6,
   "id": "fa678186-ff35-484d-91f1-aac21c124418",
   "metadata": {},
   "outputs": [
    {
     "data": {
      "text/html": [
       "<div>\n",
       "<style scoped>\n",
       "    .dataframe tbody tr th:only-of-type {\n",
       "        vertical-align: middle;\n",
       "    }\n",
       "\n",
       "    .dataframe tbody tr th {\n",
       "        vertical-align: top;\n",
       "    }\n",
       "\n",
       "    .dataframe thead th {\n",
       "        text-align: right;\n",
       "    }\n",
       "</style>\n",
       "<table border=\"1\" class=\"dataframe\">\n",
       "  <thead>\n",
       "    <tr style=\"text-align: right;\">\n",
       "      <th></th>\n",
       "      <th>amount</th>\n",
       "      <th>time_since_last_transaction</th>\n",
       "      <th>is_foreign_transaction</th>\n",
       "      <th>is_high_risk_country</th>\n",
       "      <th>has_chip</th>\n",
       "      <th>merchant_risk_score</th>\n",
       "      <th>is_fraud</th>\n",
       "    </tr>\n",
       "  </thead>\n",
       "  <tbody>\n",
       "    <tr>\n",
       "      <th>0</th>\n",
       "      <td>46.926809</td>\n",
       "      <td>6.141908</td>\n",
       "      <td>0</td>\n",
       "      <td>0</td>\n",
       "      <td>0</td>\n",
       "      <td>0.393636</td>\n",
       "      <td>0</td>\n",
       "    </tr>\n",
       "    <tr>\n",
       "      <th>1</th>\n",
       "      <td>301.012143</td>\n",
       "      <td>23.420095</td>\n",
       "      <td>0</td>\n",
       "      <td>0</td>\n",
       "      <td>0</td>\n",
       "      <td>0.473436</td>\n",
       "      <td>0</td>\n",
       "    </tr>\n",
       "    <tr>\n",
       "      <th>2</th>\n",
       "      <td>131.674569</td>\n",
       "      <td>61.894254</td>\n",
       "      <td>0</td>\n",
       "      <td>0</td>\n",
       "      <td>0</td>\n",
       "      <td>0.854547</td>\n",
       "      <td>0</td>\n",
       "    </tr>\n",
       "    <tr>\n",
       "      <th>3</th>\n",
       "      <td>91.294255</td>\n",
       "      <td>39.528233</td>\n",
       "      <td>0</td>\n",
       "      <td>0</td>\n",
       "      <td>0</td>\n",
       "      <td>0.340004</td>\n",
       "      <td>0</td>\n",
       "    </tr>\n",
       "    <tr>\n",
       "      <th>4</th>\n",
       "      <td>16.962487</td>\n",
       "      <td>49.283815</td>\n",
       "      <td>0</td>\n",
       "      <td>0</td>\n",
       "      <td>0</td>\n",
       "      <td>0.869650</td>\n",
       "      <td>0</td>\n",
       "    </tr>\n",
       "  </tbody>\n",
       "</table>\n",
       "</div>"
      ],
      "text/plain": [
       "       amount  time_since_last_transaction  is_foreign_transaction  \\\n",
       "0   46.926809                     6.141908                       0   \n",
       "1  301.012143                    23.420095                       0   \n",
       "2  131.674569                    61.894254                       0   \n",
       "3   91.294255                    39.528233                       0   \n",
       "4   16.962487                    49.283815                       0   \n",
       "\n",
       "   is_high_risk_country  has_chip  merchant_risk_score  is_fraud  \n",
       "0                     0         0             0.393636         0  \n",
       "1                     0         0             0.473436         0  \n",
       "2                     0         0             0.854547         0  \n",
       "3                     0         0             0.340004         0  \n",
       "4                     0         0             0.869650         0  "
      ]
     },
     "execution_count": 6,
     "metadata": {},
     "output_type": "execute_result"
    }
   ],
   "source": [
    "df.head()"
   ]
  },
  {
   "cell_type": "code",
   "execution_count": 7,
   "id": "f3d69030-8bf4-464a-9834-78b3d3e77610",
   "metadata": {},
   "outputs": [
    {
     "data": {
      "text/plain": [
       "is_fraud\n",
       "0    956\n",
       "1     44\n",
       "Name: count, dtype: int64"
      ]
     },
     "execution_count": 7,
     "metadata": {},
     "output_type": "execute_result"
    }
   ],
   "source": [
    "df['is_fraud'].value_counts()"
   ]
  },
  {
   "cell_type": "markdown",
   "id": "a486a2f9-d949-4590-abc2-c96a2715c5ca",
   "metadata": {},
   "source": [
    "# ¿Cómo funciona `resample()` para balancear clases en un dataset?\n",
    "\n",
    "El método `resample()` de `sklearn.utils` se utiliza para generar una nueva muestra de datos, siendo una herramienta muy útil cuando se desea balancear clases desbalanceadas en problemas de clasificación.\n",
    "\n",
    "---\n",
    "\n",
    "## Ejemplo de uso\n",
    "\n",
    "```python\n",
    "from sklearn.utils import resample\n",
    "\n",
    "df_minority_upsampled = resample(\n",
    "    df_minority,\n",
    "    replace=True,\n",
    "    n_samples=len(df_majority),\n",
    "    random_state=42\n",
    ")\n",
    "```\n",
    "\n",
    "Esta instrucción realiza un **sobremuestreo** (upsampling) de la clase minoritaria (`df_minority`) para que tenga la misma cantidad de registros que la clase mayoritaria (`df_majority`).\n",
    "\n",
    "---\n",
    "\n",
    "## Descripción de los parámetros\n",
    "\n",
    "| Parámetro                  | Descripción |\n",
    "|---------------------------|-------------|\n",
    "| `df_minority`             | El subconjunto del dataframe que contiene las filas de la clase minoritaria (por ejemplo, fraudes). |\n",
    "| `replace=True`            | Permite la selección con reemplazo, es decir, una misma fila puede aparecer más de una vez en la nueva muestra. Esto es esencial cuando no hay suficientes ejemplos únicos para alcanzar el tamaño deseado. |\n",
    "| `n_samples=len(df_majority)` | Especifica que se desea obtener el mismo número de muestras que hay en la clase mayoritaria, logrando así un balance. |\n",
    "| `random_state=42`         | Fija la semilla aleatoria para garantizar que los resultados sean reproducibles. |\n",
    "\n",
    "---\n",
    "\n",
    "## ¿Qué hace realmente?\n",
    "\n",
    "Supongamos el siguiente caso:\n",
    "- `df_majority`: 950 registros (no fraude)\n",
    "- `df_minority`: 50 registros (fraude)\n",
    "\n",
    "El `resample()` creará una nueva muestra de `df_minority` con **950 registros**, repitiendo aleatoriamente filas del conjunto original. El resultado es un dataset balanceado, listo para entrenar modelos que no ignoren la clase minoritaria.\n",
    "\n",
    "---\n",
    "\n",
    "## ¿Por qué es útil?\n",
    "\n",
    "Cuando las clases están muy desbalanceadas, los modelos tienden a favorecer la clase mayoritaria, ignorando la menor (por ejemplo, prediciendo que todo es \"no fraude\"). El sobremuestreo ayuda a mejorar el aprendizaje de la clase minoritaria, especialmente en contextos críticos como:\n",
    "\n",
    "- Detección de fraude financiero\n",
    "- Clasificación de correos como spam\n",
    "- Diagnóstico de enfermedades poco comunes\n",
    "- Reconocimiento de objetos raros en visión por computadora\n",
    "\n",
    "Este proceso mejora la sensibilidad del modelo hacia eventos raros o críticos, ayudando a reducir los falsos negativos.\n"
   ]
  },
  {
   "cell_type": "code",
   "execution_count": 9,
   "id": "91cb263d",
   "metadata": {},
   "outputs": [
    {
     "data": {
      "text/plain": [
       "is_fraud\n",
       "0    956\n",
       "1    956\n",
       "Name: count, dtype: int64"
      ]
     },
     "execution_count": 9,
     "metadata": {},
     "output_type": "execute_result"
    }
   ],
   "source": [
    "# 2. Balancear las clases por sobremuestreo\n",
    "df_majority = df[df.is_fraud == 0]\n",
    "df_minority = df[df.is_fraud == 1]\n",
    "\n",
    "df_minority_upsampled = resample(\n",
    "    df_minority,\n",
    "    replace=True,\n",
    "    n_samples=len(df_majority),\n",
    "    random_state=42\n",
    ")\n",
    "\n",
    "df_balanced = pd.concat([df_majority, df_minority_upsampled])\n",
    "df_balanced['is_fraud'].value_counts()"
   ]
  },
  {
   "cell_type": "code",
   "execution_count": 10,
   "id": "35cc1c80",
   "metadata": {},
   "outputs": [],
   "source": [
    "# 3. Separar variables y etiquetas\n",
    "X = df_balanced.drop(columns='is_fraud')\n",
    "y = df_balanced['is_fraud']"
   ]
  },
  {
   "cell_type": "code",
   "execution_count": 11,
   "id": "5fde4e22-7341-461c-bfd7-9b9eab2cd9f0",
   "metadata": {},
   "outputs": [],
   "source": [
    "# 4. Dividir en entrenamiento y prueba\n",
    "X_train, X_test, y_train, y_test = train_test_split(X, y, test_size=0.3, random_state=42)"
   ]
  },
  {
   "cell_type": "code",
   "execution_count": 12,
   "id": "3b798a06-cf54-4cf8-be9f-f48c6d0b5d81",
   "metadata": {},
   "outputs": [],
   "source": [
    "# 5. Entrenar Árbol de Decisión\n",
    "model = DecisionTreeClassifier(random_state=42)\n",
    "model.fit(X_train, y_train)\n",
    "y_pred = model.predict(X_test)"
   ]
  },
  {
   "cell_type": "code",
   "execution_count": 13,
   "id": "58c8569e-5ec9-4cf3-870d-87de67de011f",
   "metadata": {},
   "outputs": [],
   "source": [
    "# 6. Matriz de Confusión y Accuracy\n",
    "cm = confusion_matrix(y_test, y_pred)\n",
    "acc = accuracy_score(y_test, y_pred)"
   ]
  },
  {
   "cell_type": "code",
   "execution_count": 14,
   "id": "ac12b945-fd0a-4c7e-89fb-b8a74860652d",
   "metadata": {},
   "outputs": [
    {
     "data": {
      "image/png": "[encoded data removed]",
      "text/plain": [
       "<Figure size 640x480 with 2 Axes>"
      ]
     },
     "metadata": {},
     "output_type": "display_data"
    }
   ],
   "source": [
    "# Mostrar matriz de confusión\n",
    "disp = ConfusionMatrixDisplay(confusion_matrix=cm, display_labels=model.classes_)\n",
    "disp.plot(cmap=\"Blues\")\n",
    "plt.title(f\"Confusion Matrix (Accuracy: {acc:.2f})\")\n",
    "plt.show()"
   ]
  }
 ],
 "metadata": {
  "kernelspec": {
   "display_name": "Python 3 (ipykernel)",
   "language": "python",
   "name": "python3"
  },
  "language_info": {
   "codemirror_mode": {
    "name": "ipython",
    "version": 3
   },
   "file_extension": ".py",
   "mimetype": "text/x-python",
   "name": "python",
   "nbconvert_exporter": "python",
   "pygments_lexer": "ipython3",
   "version": "3.10.4"
  }
 },
 "nbformat": 4,
 "nbformat_minor": 5
}
