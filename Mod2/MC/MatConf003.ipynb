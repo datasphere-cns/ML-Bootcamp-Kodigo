{
 "cells": [
  {
   "cell_type": "markdown",
   "id": "b9b57d1f",
   "metadata": {},
   "source": [
    "# Clasificación de Clientes por Probabilidad de Recompra\n",
    "\n",
    "Este notebook simula datos de clientes de una empresa de repuestos automotrices y entrena un modelo de clasificación para predecir si un cliente volverá a comprar en un período determinado."
   ]
  },
  {
   "cell_type": "code",
   "execution_count": 4,
   "id": "35dd84d6-d92c-43a9-9172-d65d9b866782",
   "metadata": {},
   "outputs": [],
   "source": [
    "import pandas as pd\n",
    "import numpy as np\n",
    "from sklearn.model_selection import train_test_split\n",
    "from sklearn.tree import DecisionTreeClassifier\n",
    "from sklearn.metrics import confusion_matrix, accuracy_score, ConfusionMatrixDisplay\n",
    "from sklearn.utils import resample\n",
    "import matplotlib.pyplot as plt"
   ]
  },
  {
   "cell_type": "code",
   "execution_count": 5,
   "id": "a36ea0da-6fc3-483e-b039-24beb5a0de7f",
   "metadata": {},
   "outputs": [],
   "source": [
    "# Semilla para reproducibilidad\n",
    "np.random.seed(42)\n",
    "\n",
    "# 1. Crear dataset simulado\n",
    "n_customers = 1000"
   ]
  },
  {
   "cell_type": "code",
   "execution_count": 6,
   "id": "304113ac",
   "metadata": {},
   "outputs": [],
   "source": [
    "df = pd.DataFrame({\n",
    "    'days_since_last_purchase': np.random.exponential(scale=60, size=n_customers),  # días desde la última compra\n",
    "    'avg_ticket': np.random.normal(loc=50, scale=15, size=n_customers),             # ticket promedio\n",
    "    'purchase_frequency': np.random.poisson(lam=3, size=n_customers),               # frecuencia mensual de compras\n",
    "    'channel': np.random.choice([0, 1], size=n_customers, p=[0.7, 0.3]),             # 0 = tienda física, 1 = online\n",
    "    'category_focus': np.random.choice([0, 1, 2], size=n_customers, p=[0.4, 0.4, 0.2]),  # 0 = frenos, 1 = motor, 2 = eléctricos\n",
    "})"
   ]
  },
  {
   "cell_type": "code",
   "execution_count": 7,
   "id": "476843bd-8a8d-4d3a-9dcd-cf5244bf44e0",
   "metadata": {},
   "outputs": [
    {
     "data": {
      "text/html": [
       "<div>\n",
       "<style scoped>\n",
       "    .dataframe tbody tr th:only-of-type {\n",
       "        vertical-align: middle;\n",
       "    }\n",
       "\n",
       "    .dataframe tbody tr th {\n",
       "        vertical-align: top;\n",
       "    }\n",
       "\n",
       "    .dataframe thead th {\n",
       "        text-align: right;\n",
       "    }\n",
       "</style>\n",
       "<table border=\"1\" class=\"dataframe\">\n",
       "  <thead>\n",
       "    <tr style=\"text-align: right;\">\n",
       "      <th></th>\n",
       "      <th>days_since_last_purchase</th>\n",
       "      <th>avg_ticket</th>\n",
       "      <th>purchase_frequency</th>\n",
       "      <th>channel</th>\n",
       "      <th>category_focus</th>\n",
       "      <th>recompra</th>\n",
       "    </tr>\n",
       "  </thead>\n",
       "  <tbody>\n",
       "    <tr>\n",
       "      <th>0</th>\n",
       "      <td>28.156085</td>\n",
       "      <td>52.665515</td>\n",
       "      <td>3</td>\n",
       "      <td>0</td>\n",
       "      <td>2</td>\n",
       "      <td>1</td>\n",
       "    </tr>\n",
       "    <tr>\n",
       "      <th>1</th>\n",
       "      <td>180.607286</td>\n",
       "      <td>29.969835</td>\n",
       "      <td>2</td>\n",
       "      <td>0</td>\n",
       "      <td>2</td>\n",
       "      <td>0</td>\n",
       "    </tr>\n",
       "    <tr>\n",
       "      <th>2</th>\n",
       "      <td>79.004742</td>\n",
       "      <td>55.702968</td>\n",
       "      <td>1</td>\n",
       "      <td>0</td>\n",
       "      <td>2</td>\n",
       "      <td>0</td>\n",
       "    </tr>\n",
       "    <tr>\n",
       "      <th>3</th>\n",
       "      <td>54.776553</td>\n",
       "      <td>59.158786</td>\n",
       "      <td>0</td>\n",
       "      <td>1</td>\n",
       "      <td>0</td>\n",
       "      <td>0</td>\n",
       "    </tr>\n",
       "    <tr>\n",
       "      <th>4</th>\n",
       "      <td>10.177492</td>\n",
       "      <td>58.396857</td>\n",
       "      <td>1</td>\n",
       "      <td>1</td>\n",
       "      <td>2</td>\n",
       "      <td>0</td>\n",
       "    </tr>\n",
       "  </tbody>\n",
       "</table>\n",
       "</div>"
      ],
      "text/plain": [
       "   days_since_last_purchase  avg_ticket  purchase_frequency  channel  \\\n",
       "0                 28.156085   52.665515                   3        0   \n",
       "1                180.607286   29.969835                   2        0   \n",
       "2                 79.004742   55.702968                   1        0   \n",
       "3                 54.776553   59.158786                   0        1   \n",
       "4                 10.177492   58.396857                   1        1   \n",
       "\n",
       "   category_focus  recompra  \n",
       "0               2         1  \n",
       "1               2         0  \n",
       "2               2         0  \n",
       "3               0         0  \n",
       "4               2         0  "
      ]
     },
     "execution_count": 7,
     "metadata": {},
     "output_type": "execute_result"
    }
   ],
   "source": [
    "# Etiqueta: recompra (1) o no recompra (0)\n",
    "df['recompra'] = np.where(\n",
    "    (df['days_since_last_purchase'] < 45) & \n",
    "    (df['purchase_frequency'] >= 3), \n",
    "    np.random.choice([1, 0], size=n_customers, p=[0.8, 0.2]),\n",
    "    np.random.choice([1, 0], size=n_customers, p=[0.1, 0.9])\n",
    ")\n",
    "\n",
    "df.head()"
   ]
  },
  {
   "cell_type": "code",
   "execution_count": 8,
   "id": "bc110c21",
   "metadata": {},
   "outputs": [],
   "source": [
    "# 2. Dividir en entrenamiento y prueba\n",
    "X = df.drop(columns='recompra')\n",
    "y = df['recompra']\n",
    "\n",
    "X_train, X_test, y_train, y_test = train_test_split(X, y, test_size=0.3, random_state=42)"
   ]
  },
  {
   "cell_type": "code",
   "execution_count": 9,
   "id": "723a974c-2bb3-48af-ad92-79ba7ae2c5d7",
   "metadata": {},
   "outputs": [],
   "source": [
    "# 3. Balancear solo el conjunto de entrenamiento\n",
    "train_df = X_train.copy()\n",
    "train_df['recompra'] = y_train\n",
    "\n",
    "majority = train_df[train_df.recompra == 0]\n",
    "minority = train_df[train_df.recompra == 1]\n",
    "\n",
    "minority_upsampled = resample(\n",
    "    minority,\n",
    "    replace=True,\n",
    "    n_samples=len(majority),\n",
    "    random_state=42\n",
    ")\n",
    "\n",
    "train_balanced = pd.concat([majority, minority_upsampled])\n",
    "X_train_bal = train_balanced.drop(columns='recompra')\n",
    "y_train_bal = train_balanced['recompra']\n"
   ]
  },
  {
   "cell_type": "code",
   "execution_count": 10,
   "id": "874992fd",
   "metadata": {},
   "outputs": [
    {
     "data": {
      "image/png": "[encoded data removed]",
      "text/plain": [
       "<Figure size 640x480 with 2 Axes>"
      ]
     },
     "metadata": {},
     "output_type": "display_data"
    }
   ],
   "source": [
    "# 4. Entrenar el modelo\n",
    "model = DecisionTreeClassifier(random_state=42)\n",
    "model.fit(X_train_bal, y_train_bal)"
   ]
  },
  {
   "cell_type": "code",
   "execution_count": 11,
   "id": "c36b0f71-70c2-42ff-be0b-853a748047a9",
   "metadata": {},
   "outputs": [],
   "source": [
    "# 5. Evaluar en conjunto de prueba original\n",
    "y_pred = model.predict(X_test)\n",
    "cm = confusion_matrix(y_test, y_pred)\n",
    "acc = accuracy_score(y_test, y_pred)"
   ]
  },
  {
   "cell_type": "code",
   "execution_count": 12,
   "id": "e15ed072-7041-480b-9fbf-3efc2ce17e50",
   "metadata": {},
   "outputs": [
    {
     "data": {
      "image/png": "[encoded data removed]",
      "text/plain": [
       "<Figure size 640x480 with 2 Axes>"
      ]
     },
     "metadata": {},
     "output_type": "display_data"
    }
   ],
   "source": [
    "# 6. Mostrar matriz de confusión\n",
    "disp = ConfusionMatrixDisplay(confusion_matrix=cm, display_labels=model.classes_)\n",
    "disp.plot(cmap=\"Blues\")\n",
    "plt.title(f\"Confusion Matrix - Accuracy: {acc:.2f}\")\n",
    "plt.show()"
   ]
  }
 ],
 "metadata": {
  "kernelspec": {
   "display_name": "Python 3 (ipykernel)",
   "language": "python",
   "name": "python3"
  },
  "language_info": {
   "codemirror_mode": {
    "name": "ipython",
    "version": 3
   },
   "file_extension": ".py",
   "mimetype": "text/x-python",
   "name": "python",
   "nbconvert_exporter": "python",
   "pygments_lexer": "ipython3",
   "version": "3.10.4"
  }
 },
 "nbformat": 4,
 "nbformat_minor": 5
}
