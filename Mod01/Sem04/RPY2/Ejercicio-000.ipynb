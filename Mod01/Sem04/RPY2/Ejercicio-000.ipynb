{
 "cells": [
  {
   "cell_type": "code",
   "execution_count": 3,
   "id": "9011f3fd-f044-46b5-ae35-a36371281c01",
   "metadata": {},
   "outputs": [],
   "source": [
    "import pandas as pd\n",
    "import numpy as np\n",
    "from datetime import datetime, timedelta\n",
    "import random\n",
    "import time"
   ]
  },
  {
   "cell_type": "code",
   "execution_count": 5,
   "id": "6255439f-dbe1-43f9-8a66-ac4afbc96189",
   "metadata": {
    "scrolled": true
   },
   "outputs": [
    {
     "name": "stdout",
     "output_type": "stream",
     "text": [
      "Verificando PATH después de añadir R y RTools:\n",
      "C:\\rtools42\\usr\\bin;C:\\PROGRA~1\\R\\R-42~1.2\\bin\\x64;C:\\virtual_environment\\bootcamp03\\Scripts;C:\\Program Files (x86)\\Common Files\\Oracle\\Java\\java8path;C:\\Program Files (x86)\\Common Files\\Oracle\\Java\\javapath;C:\\Program Files\\Microsoft\\jdk-11.0.27.6-hotspot\\bin;C:\\Program Files (x86)\\VMware\\VMware Player\\bin\\;C:\\WINDOWS\\system32;C:\\WINDOWS;C:\\WINDOWS\\System32\\Wbem;C:\\WINDOWS\\System32\\WindowsPowerShell\\v1.0\\;C:\\WINDOWS\\System32\\OpenSSH\\;C:\\Program Files\\Microsoft SQL Server\\Client SDK\\ODBC\\170\\Tools\\Binn\\;C:\\Program Files (x86)\\Microsoft SQL Server\\150\\Tools\\Binn\\;C:\\Program Files\\Microsoft SQL Server\\150\\Tools\\Binn\\;C:\\Program Files\\Microsoft SQL Server\\150\\DTS\\Binn\\;C:\\Program Files (x86)\\Microsoft SQL Server\\150\\DTS\\Binn\\;C:\\Program Files\\Azure Data Studio\\bin;C:\\Program Files\\PuTTY\\;C:\\Program Files\\dotnet\\;C:\\Program Files\\Git\\cmd;C:\\Program Files (x86)\\Google\\Cloud SDK\\google-cloud-sdk\\bin;C:\\Program Files\\Snowflake SnowSQL\\;C:\\Program Files\\Docker\\Docker\\resources\\bin;C:\\Program Files\\MySQL\\MySQL Shell 8.0\\bin\\;C:\\Users\\Admin\\AppData\\Local\\Programs\\Python\\Python310\\Scripts\\;C:\\Users\\Admin\\AppData\\Local\\Programs\\Python\\Python310\\;C:\\Users\\Admin\\AppData\\Local\\Microsoft\\WindowsApps;C:\\Program Files\\Azure Data Studio\\bin;C:\\Users\\Admin\\AppData\\Local\\Programs\\Microsoft VS Code\\bin;C:\\Users\\Admin\\AppData\\Local\\GitHubDesktop\\bin;C:\\Users\\Admin\\.dotnet\\tools\n"
     ]
    },
    {
     "name": "stderr",
     "output_type": "stream",
     "text": [
      "Error importing in API mode: ImportError('On Windows, cffi mode \"ANY\" is only \"ABI\".')\n",
      "Trying to import in ABI mode.\n",
      "C:\\virtual_environment\\bootcamp03\\lib\\site-packages\\rpy2\\rinterface\\__init__.py:1211: UserWarning: Environment variable \"PATH\" redefined by R and overriding existing variable. Current: \"C:\\rtools42\\usr\\bin;C:\\PROGRA~1\\R\\R-42~1.2\\bin\\x64;C:\\virtual_environment\\bootcamp03\\Scripts;C:\\Program Files (x86)\\Common Files\\Oracle\\Java\\java8path;C:\\Program Files (x86)\\Common Files\\Oracle\\Java\\javapath;C:\\Program Files\\Microsoft\\jdk-11.0.27.6-hotspot\\bin;C:\\Program Files (x86)\\VMware\\VMware Player\\bin\\;C:\\WINDOWS\\system32;C:\\WINDOWS;C:\\WINDOWS\\System32\\Wbem;C:\\WINDOWS\\System32\\WindowsPowerShell\\v1.0\\;C:\\WINDOWS\\System32\\OpenSSH\\;C:\\Program Files\\Microsoft SQL Server\\Client SDK\\ODBC\\170\\Tools\\Binn\\;C:\\Program Files (x86)\\Microsoft SQL Server\\150\\Tools\\Binn\\;C:\\Program Files\\Microsoft SQL Server\\150\\Tools\\Binn\\;C:\\Program Files\\Microsoft SQL Server\\150\\DTS\\Binn\\;C:\\Program Files (x86)\\Microsoft SQL Server\\150\\DTS\\Binn\\;C:\\Program Files\\Azure Data Studio\\bin;C:\\Program Files\\PuTTY\\;C:\\Program Files\\dotnet\\;C:\\Program Files\\Git\\cmd;C:\\Program Files (x86)\\Google\\Cloud SDK\\google-cloud-sdk\\bin;C:\\Program Files\\Snowflake SnowSQL\\;C:\\Program Files\\Docker\\Docker\\resources\\bin;C:\\Program Files\\MySQL\\MySQL Shell 8.0\\bin\\;C:\\Users\\Admin\\AppData\\Local\\Programs\\Python\\Python310\\Scripts\\;C:\\Users\\Admin\\AppData\\Local\\Programs\\Python\\Python310\\;C:\\Users\\Admin\\AppData\\Local\\Microsoft\\WindowsApps;C:\\Program Files\\Azure Data Studio\\bin;C:\\Users\\Admin\\AppData\\Local\\Programs\\Microsoft VS Code\\bin;C:\\Users\\Admin\\AppData\\Local\\GitHubDesktop\\bin;C:\\Users\\Admin\\.dotnet\\tools;C:\\PROGRA~1\\R\\R-42~1.2\\bin\\x64\", R: \"C:\\rtools42/x86_64-w64-mingw32.static.posix/bin;C:\\rtools42/usr/bin;C:\\rtools42\\usr\\bin;C:\\PROGRA~1\\R\\R-42~1.2\\bin\\x64;C:\\virtual_environment\\bootcamp03\\Scripts;C:\\Program Files (x86)\\Common Files\\Oracle\\Java\\java8path;C:\\Program Files (x86)\\Common Files\\Oracle\\Java\\javapath;C:\\Program Files\\Microsoft\\jdk-11.0.27.6-hotspot\\bin;C:\\Program Files (x86)\\VMware\\VMware Player\\bin\\;C:\\WINDOWS\\system32;C:\\WINDOWS;C:\\WINDOWS\\System32\\Wbem;C:\\WINDOWS\\System32\\WindowsPowerShell\\v1.0\\;C:\\WINDOWS\\System32\\OpenSSH\\;C:\\Program Files\\Microsoft SQL Server\\Client SDK\\ODBC\\170\\Tools\\Binn\\;C:\\Program Files (x86)\\Microsoft SQL Server\\150\\Tools\\Binn\\;C:\\Program Files\\Microsoft SQL Server\\150\\Tools\\Binn\\;C:\\Program Files\\Microsoft SQL Server\\150\\DTS\\Binn\\;C:\\Program Files (x86)\\Microsoft SQL Server\\150\\DTS\\Binn\\;C:\\Program Files\\Azure Data Studio\\bin;C:\\Program Files\\PuTTY\\;C:\\Program Files\\dotnet\\;C:\\Program Files\\Git\\cmd;C:\\Program Files (x86)\\Google\\Cloud SDK\\google-cloud-sdk\\bin;C:\\Program Files\\Snowflake SnowSQL\\;C:\\Program Files\\Docker\\Docker\\resources\\bin;C:\\Program Files\\MySQL\\MySQL Shell 8.0\\bin\\;C:\\Users\\Admin\\AppData\\Local\\Programs\\Python\\Python310\\Scripts\\;C:\\Users\\Admin\\AppData\\Local\\Programs\\Python\\Python310\\;C:\\Users\\Admin\\AppData\\Local\\Microsoft\\WindowsApps;C:\\Program Files\\Azure Data Studio\\bin;C:\\Users\\Admin\\AppData\\Local\\Programs\\Microsoft VS Code\\bin;C:\\Users\\Admin\\AppData\\Local\\GitHubDesktop\\bin;C:\\Users\\Admin\\.dotnet\\tools;C:\\PROGRA~1\\R\\R-42~1.2\\bin\\x64\"\n",
      "  warnings.warn(\n",
      "C:\\virtual_environment\\bootcamp03\\lib\\site-packages\\rpy2\\rinterface\\__init__.py:1211: UserWarning: Environment variable \"R_HOME\" redefined by R and overriding existing variable. Current: \"C:\\PROGRA~1\\R\\R-42~1.2\", R: \"C:/PROGRA~1/R/R-42~1.2\"\n",
      "  warnings.warn(\n",
      "C:\\virtual_environment\\bootcamp03\\lib\\site-packages\\rpy2\\rinterface\\__init__.py:1211: UserWarning: Environment variable \"PATH\" redefined by R and overriding existing variable. Current: \"C:\\rtools42/x86_64-w64-mingw32.static.posix/bin;C:\\rtools42/usr/bin;C:\\rtools42\\usr\\bin;C:\\PROGRA~1\\R\\R-42~1.2\\bin\\x64;C:\\virtual_environment\\bootcamp03\\Scripts;C:\\Program Files (x86)\\Common Files\\Oracle\\Java\\java8path;C:\\Program Files (x86)\\Common Files\\Oracle\\Java\\javapath;C:\\Program Files\\Microsoft\\jdk-11.0.27.6-hotspot\\bin;C:\\Program Files (x86)\\VMware\\VMware Player\\bin\\;C:\\WINDOWS\\system32;C:\\WINDOWS;C:\\WINDOWS\\System32\\Wbem;C:\\WINDOWS\\System32\\WindowsPowerShell\\v1.0\\;C:\\WINDOWS\\System32\\OpenSSH\\;C:\\Program Files\\Microsoft SQL Server\\Client SDK\\ODBC\\170\\Tools\\Binn\\;C:\\Program Files (x86)\\Microsoft SQL Server\\150\\Tools\\Binn\\;C:\\Program Files\\Microsoft SQL Server\\150\\Tools\\Binn\\;C:\\Program Files\\Microsoft SQL Server\\150\\DTS\\Binn\\;C:\\Program Files (x86)\\Microsoft SQL Server\\150\\DTS\\Binn\\;C:\\Program Files\\Azure Data Studio\\bin;C:\\Program Files\\PuTTY\\;C:\\Program Files\\dotnet\\;C:\\Program Files\\Git\\cmd;C:\\Program Files (x86)\\Google\\Cloud SDK\\google-cloud-sdk\\bin;C:\\Program Files\\Snowflake SnowSQL\\;C:\\Program Files\\Docker\\Docker\\resources\\bin;C:\\Program Files\\MySQL\\MySQL Shell 8.0\\bin\\;C:\\Users\\Admin\\AppData\\Local\\Programs\\Python\\Python310\\Scripts\\;C:\\Users\\Admin\\AppData\\Local\\Programs\\Python\\Python310\\;C:\\Users\\Admin\\AppData\\Local\\Microsoft\\WindowsApps;C:\\Program Files\\Azure Data Studio\\bin;C:\\Users\\Admin\\AppData\\Local\\Programs\\Microsoft VS Code\\bin;C:\\Users\\Admin\\AppData\\Local\\GitHubDesktop\\bin;C:\\Users\\Admin\\.dotnet\\tools;C:\\PROGRA~1\\R\\R-42~1.2\\bin\\x64\", R: \"C:\\rtools42/x86_64-w64-mingw32.static.posix/bin;C:\\rtools42/usr/bin;C:\\rtools42/x86_64-w64-mingw32.static.posix/bin;C:\\rtools42/usr/bin;C:\\rtools42/x86_64-w64-mingw32.static.posix/bin;C:\\rtools42/usr/bin;C:\\rtools42\\usr\\bin;C:\\PROGRA~1\\R\\R-42~1.2\\bin\\x64;C:\\virtual_environment\\bootcamp03\\Scripts;C:\\Program Files (x86)\\Common Files\\Oracle\\Java\\java8path;C:\\Program Files (x86)\\Common Files\\Oracle\\Java\\javapath;C:\\Program Files\\Microsoft\\jdk-11.0.27.6-hotspot\\bin;C:\\Program Files (x86)\\VMware\\VMware Player\\bin\\;C:\\WINDOWS\\system32;C:\\WINDOWS;C:\\WINDOWS\\System32\\Wbem;C:\\WINDOWS\\System32\\WindowsPowerShell\\v1.0\\;C:\\WINDOWS\\System32\\OpenSSH\\;C:\\Program Files\\Microsoft SQL Server\\Client SDK\\ODBC\\170\\Tools\\Binn\\;C:\\Program Files (x86)\\Microsoft SQL Server\\150\\Tools\\Binn\\;C:\\Program Files\\Microsoft SQL Server\\150\\Tools\\Binn\\;C:\\Program Files\\Microsoft SQL Server\\150\\DTS\\Binn\\;C:\\Program Files (x86)\\Microsoft SQL Server\\150\\DTS\\Binn\\;C:\\Program Files\\Azure Data Studio\\bin;C:\\Program Files\\PuTTY\\;C:\\Program Files\\dotnet\\;C:\\Program Files\\Git\\cmd;C:\\Program Files (x86)\\Google\\Cloud SDK\\google-cloud-sdk\\bin;C:\\Program Files\\Snowflake SnowSQL\\;C:\\Program Files\\Docker\\Docker\\resources\\bin;C:\\Program Files\\MySQL\\MySQL Shell 8.0\\bin\\;C:\\Users\\Admin\\AppData\\Local\\Programs\\Python\\Python310\\Scripts\\;C:\\Users\\Admin\\AppData\\Local\\Programs\\Python\\Python310\\;C:\\Users\\Admin\\AppData\\Local\\Microsoft\\WindowsApps;C:\\Program Files\\Azure Data Studio\\bin;C:\\Users\\Admin\\AppData\\Local\\Programs\\Microsoft VS Code\\bin;C:\\Users\\Admin\\AppData\\Local\\GitHubDesktop\\bin;C:\\Users\\Admin\\.dotnet\\tools;C:\\PROGRA~1\\R\\R-42~1.2\\bin\\x64\"\n",
      "  warnings.warn(\n"
     ]
    },
    {
     "name": "stdout",
     "output_type": "stream",
     "text": [
      "\n",
      "Importando paquetes R...\n",
      "  ggplot2 cargado correctamente\n",
      "  dplyr cargado correctamente\n",
      "  lubridate cargado correctamente\n"
     ]
    },
    {
     "name": "stderr",
     "output_type": "stream",
     "text": [
      "R callback write-console: Warning:  \n",
      "R callback write-console:  package 'plotly' is in use and will not be installed\n",
      "  \n"
     ]
    },
    {
     "name": "stdout",
     "output_type": "stream",
     "text": [
      "  Error al cargar plotly: list index out of range\n",
      "  Intentando instalar plotly...\n",
      "  plotly instalado y cargado\n"
     ]
    }
   ],
   "source": [
    "import os\n",
    "import sys # Importar sys para salir si hay problemas con R_HOME\n",
    "\n",
    "# --- INICIA EL TROUBLESHOOTING / CONFIGURACIÓN ---\n",
    "# 1. Define la ruta RAÍZ de tu instalación de R.\n",
    "#    ¡Usamos la ruta corta que R.home() te devolvió, que es más segura!\n",
    "#    'C:/PROGRA~1/R/R-42~1.2' es equivalente a 'C:\\\\Program Files\\\\R\\\\R-4.2.2'\n",
    "r_home_path = 'C:\\\\PROGRA~1\\\\R\\\\R-42~1.2' \n",
    "\n",
    "# 2. Establece la variable de entorno R_HOME.\n",
    "#    RPy2 usa R_HOME para encontrar la instalación base de R.\n",
    "os.environ['R_HOME'] = r_home_path\n",
    "os.environ['LANG'] = 'en_US.UTF-8'\n",
    "\n",
    "# 3. Añade la ruta del ejecutable de R (bin/x64 para 64-bit) a la variable PATH.\n",
    "#    Esto permite que Python (y rpy2) encuentren el ejecutable 'R.exe'.\n",
    "r_bin_path = os.path.join(r_home_path, 'bin', 'x64') # Para R de 64 bits (lo más probable)\n",
    "\n",
    "# Añade esta ruta al PATH existente si aún no está.\n",
    "# Es crucial añadirla al inicio del PATH para que se encuentre antes que otras posibles versiones de R o herramientas.\n",
    "if r_bin_path not in os.environ['PATH']:\n",
    "    os.environ['PATH'] = r_bin_path + os.pathsep + os.environ['PATH']\n",
    "\n",
    "# --- AÑADIMOS ESTO PARA DIAGNÓSTICO DE RTOOLS ---\n",
    "# Encuentra la ruta donde RTools debería estar instalado.\n",
    "# Para RTools42, suele ser C:\\rtools42\\usr\\bin o similar.\n",
    "# Puedes verificar la ruta exacta en la instalación de RTools.\n",
    "rtools_path = 'C:\\\\rtools42\\\\usr\\\\bin' # <--- ¡VERIFICA ESTA RUTA DE TU INSTALACIÓN DE RTOOLS!\n",
    "# Si no instalaste en C:\\rtools42, ajusta esta línea.\n",
    "\n",
    "# Añade la ruta de RTools al PATH si no está ya.\n",
    "# Es vital que esta ruta esté en el PATH para que 'sh.exe' y otras herramientas sean encontradas.\n",
    "if rtools_path not in os.environ['PATH']:\n",
    "    os.environ['PATH'] = rtools_path + os.pathsep + os.environ['PATH']\n",
    "\n",
    "print(\"Verificando PATH después de añadir R y RTools:\")\n",
    "print(os.environ['PATH'])\n",
    "\n",
    "# --- TERMINA EL TROUBLESHOOTING / CONFIGURACIÓN ---\n",
    "\n",
    "# Importar las librerías necesarias de Python\n",
    "import pandas as pd\n",
    "import numpy as np\n",
    "from datetime import datetime, timedelta\n",
    "import random\n",
    "\n",
    "# Configuración de RPy2\n",
    "import rpy2.robjects as ro\n",
    "from rpy2.robjects import pandas2ri, numpy2ri\n",
    "from rpy2.robjects.packages import importr\n",
    "from rpy2.robjects.conversion import localconverter\n",
    "\n",
    "# REMOVE THESE LINES, THEY ARE DEPRECATED\n",
    "# pandas2ri.activate()\n",
    "# numpy2ri.activate()\n",
    "\n",
    "# Importar paquetes R necesarios\n",
    "print(\"\\nImportando paquetes R...\")\n",
    "try:\n",
    "    # Set the conversion context explicitly here using localconverter\n",
    "    # This replaces pandas2ri.activate() and numpy2ri.activate()\n",
    "    with localconverter(ro.default_converter + pandas2ri.converter + numpy2ri.converter) as cv:\n",
    "        base = importr('base')\n",
    "        stats = importr('stats')\n",
    "        utils = importr('utils')\n",
    "        \n",
    "        r_packages = ['ggplot2', 'dplyr', 'lubridate', 'plotly']\n",
    "        for pkg in r_packages:\n",
    "            try:\n",
    "                importr(pkg)\n",
    "                print(f\"  {pkg} cargado correctamente\")\n",
    "            except Exception as pkg_e:\n",
    "                print(f\"  Error al cargar {pkg}: {pkg_e}\")\n",
    "                print(f\"  Intentando instalar {pkg}...\")\n",
    "                utils.install_packages(pkg)\n",
    "                print(f\"  {pkg} instalado y cargado\")\n",
    "                \n",
    "        ggplot2 = importr('ggplot2')\n",
    "        dplyr = importr('dplyr')\n",
    "        lubridate = importr('lubridate')\n",
    "        \n",
    "except Exception as e:\n",
    "    print(f\"\\n¡ERROR CRÍTICO! RPy2 o R no pudieron inicializarse correctamente: {e}\")\n",
    "    print(\"Por favor, revisa los pasos de instalación de R y RTools, y la configuración de PATH.\")\n",
    "    sys.exit(1) # Salir del script si hay un error fatal con R."
   ]
  },
  {
   "cell_type": "code",
   "execution_count": 7,
   "id": "b3da42c6-931b-424f-84e4-64c7b59f6c2a",
   "metadata": {},
   "outputs": [
    {
     "name": "stdout",
     "output_type": "stream",
     "text": [
      "\n",
      "Datos en Python: [10, 25, 30, 45, 50, 65, 70, 85, 90, 100]\n"
     ]
    }
   ],
   "source": [
    "# Creamos una lista de números en Python.\n",
    "numeros_python = [10, 25, 30, 45, 50, 65, 70, 85, 90, 100]\n",
    "print(f\"\\nDatos en Python: {numeros_python}\")"
   ]
  },
  {
   "cell_type": "code",
   "execution_count": 8,
   "id": "5c5c0a32-ef2d-4b16-84fd-cbc0d806e3cc",
   "metadata": {},
   "outputs": [],
   "source": [
    "with localconverter(ro.default_converter + numpy2ri.converter):\n",
    "    # Convertimos la lista de Python en un vector numérico de R.\n",
    "    vector_r = ro.FloatVector(numeros_python)\n",
    "    ro.globalenv['mi_vector_r'] = vector_r # Asignamos el vector a una variable en el entorno de R.\n",
    "\n",
    "    # Ejecutamos una función de R para calcular la media.\n",
    "    media_r = ro.r('mean(mi_vector_r)')"
   ]
  },
  {
   "cell_type": "code",
   "execution_count": null,
   "id": "bb51a900-1095-48dd-8b92-790b62ef69ce",
   "metadata": {},
   "outputs": [],
   "source": [
    "# El resultado de 'media_r' ya es un objeto de Python compatible.\n",
    "print(f\"La media calculada por R es: {media_r[0]}\") # Accedemos al valor numérico"
   ]
  }
 ],
 "metadata": {
  "kernelspec": {
   "display_name": "Python 3 (ipykernel)",
   "language": "python",
   "name": "python3"
  },
  "language_info": {
   "codemirror_mode": {
    "name": "ipython",
    "version": 3
   },
   "file_extension": ".py",
   "mimetype": "text/x-python",
   "name": "python",
   "nbconvert_exporter": "python",
   "pygments_lexer": "ipython3",
   "version": "3.10.4"
  }
 },
 "nbformat": 4,
 "nbformat_minor": 5
}
