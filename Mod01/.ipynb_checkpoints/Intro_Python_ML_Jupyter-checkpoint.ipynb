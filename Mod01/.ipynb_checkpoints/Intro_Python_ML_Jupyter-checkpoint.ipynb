{
 "cells": [
  {
   "cell_type": "markdown",
   "id": "0c68ad7f",
   "metadata": {},
   "source": [
    "# Introducción a Python con Jupyter\n",
    "\n",
    "Fecha: 11/05/2025"
   ]
  },
  {
   "cell_type": "code",
   "execution_count": null,
   "id": "9c829b89",
   "metadata": {},
   "outputs": [],
   "source": [
    "print('Hola, mundo')"
   ]
  },
  {
   "cell_type": "code",
   "execution_count": null,
   "id": "3f1917ca",
   "metadata": {},
   "outputs": [],
   "source": [
    "nombre = 'Carlos'\n",
    "edad = 25\n",
    "print(nombre, edad)"
   ]
  }
 ],
 "metadata": {},
 "nbformat": 4,
 "nbformat_minor": 5
}
