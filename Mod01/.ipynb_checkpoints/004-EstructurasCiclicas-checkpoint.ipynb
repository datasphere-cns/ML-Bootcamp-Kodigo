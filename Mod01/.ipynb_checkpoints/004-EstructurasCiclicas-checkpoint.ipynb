{
 "cells": [
  {
   "cell_type": "markdown",
   "id": "5b0bbdb7",
   "metadata": {},
   "source": [
    "\n",
    "# Estructuras Cíclicas en Python\n",
    "\n",
    "Este notebook te guiará en el uso de estructuras cíclicas (`for` y `while`) en Python.  \n",
    "Aprenderás a repetir acciones de forma controlada y resolverás ejercicios con cada tipo de ciclo.\n",
    "\n",
    "**Fecha:** 11/05/2025\n"
   ]
  },
  {
   "cell_type": "markdown",
   "id": "a40e2742",
   "metadata": {},
   "source": [
    "\n",
    "## Marco Conceptual: Estructuras Cíclicas\n",
    "\n",
    "Una estructura cíclica permite **repetir un bloque de código** mientras se cumple una condición o mientras se recorre una secuencia.\n",
    "\n",
    "Python ofrece dos estructuras principales:\n",
    "\n",
    "### 1. Ciclo `for`\n",
    "Se utiliza para **recorrer elementos de una secuencia** (listas, cadenas, rangos, etc.).\n",
    "\n",
    "**Ejemplo:**\n",
    "```python\n",
    "for numero in range(1, 6):\n",
    "    print(numero)\n",
    "```\n",
    "\n",
    "Este ciclo imprime los números del 1 al 5.\n",
    "\n",
    "---\n",
    "\n",
    "### 2. Ciclo `while`\n",
    "Repite un bloque de código **mientras una condición sea verdadera**.  \n",
    "Es útil cuando no sabemos cuántas repeticiones se harán.\n",
    "\n",
    "**Ejemplo:**\n",
    "```python\n",
    "contador = 0\n",
    "while contador < 3:\n",
    "    print(\"Contador:\", contador)\n",
    "    contador += 1\n",
    "```\n",
    "\n",
    "Este ciclo imprime los valores 0, 1 y 2.\n"
   ]
  },
  {
   "cell_type": "markdown",
   "id": "effbcc47",
   "metadata": {},
   "source": [
    "## Ejercicio 1: Usando `for` con `range()`"
   ]
  },
  {
   "cell_type": "markdown",
   "id": "5406e362",
   "metadata": {},
   "source": [
    "\n",
    "Imprime los números del 1 al 10 usando un ciclo `for`.\n"
   ]
  },
  {
   "cell_type": "code",
   "execution_count": null,
   "id": "2c216edf",
   "metadata": {},
   "outputs": [],
   "source": [
    "\n",
    "for i in range(1, 11):\n",
    "    print(i)\n"
   ]
  },
  {
   "cell_type": "markdown",
   "id": "3da15036",
   "metadata": {},
   "source": [
    "## Ejercicio 2: Recorrer una lista"
   ]
  },
  {
   "cell_type": "markdown",
   "id": "75c37739",
   "metadata": {},
   "source": [
    "\n",
    "Dada una lista de frutas, imprime cada una en pantalla usando un ciclo `for`.\n"
   ]
  },
  {
   "cell_type": "code",
   "execution_count": null,
   "id": "33c6169f",
   "metadata": {},
   "outputs": [],
   "source": [
    "\n",
    "frutas = [\"manzana\", \"pera\", \"mango\", \"sandía\"]\n",
    "\n",
    "for fruta in frutas:\n",
    "    print(fruta)\n"
   ]
  },
  {
   "cell_type": "markdown",
   "id": "4782da5c",
   "metadata": {},
   "source": [
    "## Ejercicio 3: Contador con `while`"
   ]
  },
  {
   "cell_type": "markdown",
   "id": "1e111085",
   "metadata": {},
   "source": [
    "\n",
    "Imprime los números del 1 al 5 usando un ciclo `while`.\n"
   ]
  },
  {
   "cell_type": "code",
   "execution_count": null,
   "id": "7c90e569",
   "metadata": {},
   "outputs": [],
   "source": [
    "\n",
    "contador = 1\n",
    "while contador <= 5:\n",
    "    print(contador)\n",
    "    contador += 1\n"
   ]
  },
  {
   "cell_type": "markdown",
   "id": "e0bcc049",
   "metadata": {},
   "source": [
    "## Ejercicio 4: Sumar hasta pasar 100"
   ]
  },
  {
   "cell_type": "markdown",
   "id": "ced9683a",
   "metadata": {},
   "source": [
    "\n",
    "Suma números consecutivos comenzando desde 1, hasta que la suma total supere 100.  \n",
    "Imprime el valor final de la suma.\n"
   ]
  },
  {
   "cell_type": "code",
   "execution_count": null,
   "id": "be3b951e",
   "metadata": {},
   "outputs": [],
   "source": [
    "\n",
    "suma = 0\n",
    "numero = 1\n",
    "\n",
    "while suma <= 100:\n",
    "    suma += numero\n",
    "    numero += 1\n",
    "\n",
    "print(\"Suma total:\", suma)\n"
   ]
  }
 ],
 "metadata": {},
 "nbformat": 4,
 "nbformat_minor": 5
}
