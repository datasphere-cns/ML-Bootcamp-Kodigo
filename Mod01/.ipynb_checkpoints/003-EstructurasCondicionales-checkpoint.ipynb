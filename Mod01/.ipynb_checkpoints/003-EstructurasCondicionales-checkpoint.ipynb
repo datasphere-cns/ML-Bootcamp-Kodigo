{
 "cells": [
  {
   "cell_type": "markdown",
   "id": "c4e50282",
   "metadata": {},
   "source": [
    "\n",
    "# Estructuras Condicionales en Python\n",
    "\n",
    "Este notebook está dedicado al estudio de las estructuras condicionales en Python.  \n",
    "Exploraremos las formas básicas de toma de decisiones que permiten a un programa ejecutar distintos bloques de código según las condiciones dadas.\n",
    "\n",
    "**Fecha:** 11/05/2025\n"
   ]
  },
  {
   "cell_type": "markdown",
   "id": "7864de1a",
   "metadata": {},
   "source": [
    "\n",
    "## Marco Conceptual\n",
    "\n",
    "Las **estructuras condicionales** permiten que un programa tome decisiones según ciertas condiciones.  \n",
    "En Python, se utilizan principalmente las siguientes formas:\n",
    "\n",
    "### `if`\n",
    "Evalúa una condición. Si es verdadera, ejecuta un bloque de código.\n",
    "\n",
    "### `if-else`\n",
    "Evalúa una condición. Si es verdadera, ejecuta un bloque. Si es falsa, ejecuta otro.\n",
    "\n",
    "### `if-elif-else` (if anidados o múltiples condiciones)\n",
    "Permite evaluar múltiples condiciones una tras otra.\n",
    "\n",
    "### Simulación de `case` (estilo `switch`) con `if-elif`\n",
    "Python no tiene una estructura `switch-case`, pero puede simularse usando `if-elif`.\n",
    "\n",
    "Las condiciones se escriben usando operadores de comparación (`==`, `!=`, `<`, `>`, `<=`, `>=`) y operadores lógicos (`and`, `or`, `not`).\n"
   ]
  },
  {
   "cell_type": "markdown",
   "id": "196a71d6",
   "metadata": {},
   "source": [
    "## Condicional `if`"
   ]
  },
  {
   "cell_type": "code",
   "execution_count": null,
   "id": "da3e85a1",
   "metadata": {},
   "outputs": [],
   "source": [
    "\n",
    "edad = 20\n",
    "if edad >= 18:\n",
    "    print(\"Eres mayor de edad\")\n"
   ]
  },
  {
   "cell_type": "code",
   "execution_count": null,
   "id": "297763de",
   "metadata": {},
   "outputs": [],
   "source": [
    "\n",
    "temperatura = 30\n",
    "if temperatura > 25:\n",
    "    print(\"Hace calor\")\n"
   ]
  },
  {
   "cell_type": "markdown",
   "id": "3e55f7e8",
   "metadata": {},
   "source": [
    "## Condicional `if-else`"
   ]
  },
  {
   "cell_type": "code",
   "execution_count": null,
   "id": "5576a444",
   "metadata": {},
   "outputs": [],
   "source": [
    "\n",
    "hora = 10\n",
    "if hora < 12:\n",
    "    print(\"Buenos días\")\n",
    "else:\n",
    "    print(\"Buenas tardes\")\n"
   ]
  },
  {
   "cell_type": "code",
   "execution_count": null,
   "id": "a60b690b",
   "metadata": {},
   "outputs": [],
   "source": [
    "\n",
    "nota = 6\n",
    "if nota >= 5:\n",
    "    print(\"Aprobado\")\n",
    "else:\n",
    "    print(\"Reprobado\")\n"
   ]
  },
  {
   "cell_type": "markdown",
   "id": "03141b2d",
   "metadata": {},
   "source": [
    "## Condicional `if-elif-else` (anidados o múltiples condiciones)"
   ]
  },
  {
   "cell_type": "code",
   "execution_count": null,
   "id": "2f840802",
   "metadata": {},
   "outputs": [],
   "source": [
    "\n",
    "edad = 15\n",
    "if edad < 13:\n",
    "    print(\"Niño\")\n",
    "elif edad < 18:\n",
    "    print(\"Adolescente\")\n",
    "else:\n",
    "    print(\"Adulto\")\n"
   ]
  },
  {
   "cell_type": "code",
   "execution_count": null,
   "id": "09348620",
   "metadata": {},
   "outputs": [],
   "source": [
    "\n",
    "dia = \"sábado\"\n",
    "if dia == \"lunes\":\n",
    "    print(\"Inicio de semana\")\n",
    "elif dia == \"viernes\":\n",
    "    print(\"Casi fin de semana\")\n",
    "elif dia == \"sábado\" or dia == \"domingo\":\n",
    "    print(\"Es fin de semana\")\n",
    "else:\n",
    "    print(\"Día regular\")\n"
   ]
  },
  {
   "cell_type": "markdown",
   "id": "cb85caca",
   "metadata": {},
   "source": [
    "## Simulación de `case` con `if-elif`"
   ]
  },
  {
   "cell_type": "code",
   "execution_count": null,
   "id": "55cf1b66",
   "metadata": {},
   "outputs": [],
   "source": [
    "\n",
    "opcion = 2\n",
    "if opcion == 1:\n",
    "    print(\"Elegiste la opción 1\")\n",
    "elif opcion == 2:\n",
    "    print(\"Elegiste la opción 2\")\n",
    "elif opcion == 3:\n",
    "    print(\"Elegiste la opción 3\")\n",
    "else:\n",
    "    print(\"Opción no válida\")\n"
   ]
  },
  {
   "cell_type": "code",
   "execution_count": null,
   "id": "07a8d275",
   "metadata": {},
   "outputs": [],
   "source": [
    "\n",
    "color = \"verde\"\n",
    "if color == \"rojo\":\n",
    "    print(\"Alto\")\n",
    "elif color == \"amarillo\":\n",
    "    print(\"Precaución\")\n",
    "elif color == \"verde\":\n",
    "    print(\"Siga\")\n",
    "else:\n",
    "    print(\"Color no reconocido\")\n"
   ]
  }
 ],
 "metadata": {},
 "nbformat": 4,
 "nbformat_minor": 5
}
