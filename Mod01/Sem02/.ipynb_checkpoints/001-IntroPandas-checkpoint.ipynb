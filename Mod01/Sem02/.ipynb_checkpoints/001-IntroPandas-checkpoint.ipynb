{
 "cells": [
  {
   "cell_type": "markdown",
   "id": "53b0e56a",
   "metadata": {},
   "source": [
    "\n",
    "# Curso Completo de `pandas` en Python\n",
    "\n",
    "Este notebook ha sido diseñado como un ejercicio introductorio a `pandas`, cubriendo paso a paso sus funcionalidades.\n",
    "\n",
    "**Autor:** Nelson Zepeda\n",
    "**Fecha:** 12/05/2025\n"
   ]
  },
  {
   "cell_type": "markdown",
   "id": "707950dd",
   "metadata": {},
   "source": [
    "## Carga de librerías y dataset de ejemplo"
   ]
  },
  {
   "cell_type": "code",
   "execution_count": 1,
   "id": "57d3da6d",
   "metadata": {},
   "outputs": [
    {
     "ename": "ModuleNotFoundError",
     "evalue": "No module named 'pandas'",
     "output_type": "error",
     "traceback": [
      "\u001b[31m---------------------------------------------------------------------------\u001b[39m",
      "\u001b[31mModuleNotFoundError\u001b[39m                       Traceback (most recent call last)",
      "\u001b[36mCell\u001b[39m\u001b[36m \u001b[39m\u001b[32mIn[1]\u001b[39m\u001b[32m, line 1\u001b[39m\n\u001b[32m----> \u001b[39m\u001b[32m1\u001b[39m \u001b[38;5;28;01mimport\u001b[39;00m\u001b[38;5;250m \u001b[39m\u001b[34;01mpandas\u001b[39;00m\u001b[38;5;250m \u001b[39m\u001b[38;5;28;01mas\u001b[39;00m\u001b[38;5;250m \u001b[39m\u001b[34;01mpd\u001b[39;00m\n\u001b[32m      2\u001b[39m \u001b[38;5;28;01mimport\u001b[39;00m\u001b[38;5;250m \u001b[39m\u001b[34;01mnumpy\u001b[39;00m\u001b[38;5;250m \u001b[39m\u001b[38;5;28;01mas\u001b[39;00m\u001b[38;5;250m \u001b[39m\u001b[34;01mnp\u001b[39;00m\n\u001b[32m      4\u001b[39m \u001b[38;5;66;03m# Creamos un DataFrame de ejemplo\u001b[39;00m\n",
      "\u001b[31mModuleNotFoundError\u001b[39m: No module named 'pandas'"
     ]
    }
   ],
   "source": [
    "import pandas as pd\n",
    "import numpy as np\n",
    "\n",
    "# Creamos un DataFrame de ejemplo\n",
    "df = pd.DataFrame({\n",
    "    \"Producto\": [\"Manzana\", \"Banano\", \"Peras\", \"Uvas\", \"Piña\", \"Sandía\", \"Melón\"],\n",
    "    \"Precio\": [0.5, 0.3, 0.7, 1.0, 1.2, 0.8, 0.9],\n",
    "    \"Cantidad\": [100, 150, 80, 60, 40, 90, 50],\n",
    "    \"Categoría\": [\"Fruta\", \"Fruta\", \"Fruta\", \"Fruta\", \"Fruta Tropical\", \"Fruta Tropical\", \"Fruta Tropical\"],\n",
    "    \"Fecha\": pd.date_range(start=\"2023-01-01\", periods=7, freq=\"D\")\n",
    "})\n",
    "df.loc[2, \"Precio\"] = np.nan  # insertar un valor faltante\n",
    "df\n"
   ]
  },
  {
   "cell_type": "markdown",
   "id": "0aab0781",
   "metadata": {},
   "source": [
    "## 1. Inspección de un DataFrame"
   ]
  },
  {
   "cell_type": "markdown",
   "id": "d9993e87",
   "metadata": {},
   "source": [
    "\n",
    "Las siguientes funciones permiten examinar rápidamente la estructura y contenido de un DataFrame:\n",
    "\n",
    "- `.head(n)`: muestra las primeras `n` filas.\n",
    "- `.tail(n)`: muestra las últimas `n` filas.\n",
    "- `.shape`: devuelve el número de filas y columnas.\n",
    "- `.dtypes`: tipos de datos por columna.\n",
    "- `.info()`: resumen general.\n",
    "- `.describe()`: estadísticas resumen para columnas numéricas.\n"
   ]
  },
  {
   "cell_type": "code",
   "execution_count": null,
   "id": "551ea4b7",
   "metadata": {},
   "outputs": [],
   "source": [
    "\n",
    "print(df.head())\n",
    "print(df.tail(3))\n",
    "print(df.shape)\n",
    "print(df.dtypes)\n",
    "df.info()\n",
    "df.describe()\n"
   ]
  },
  {
   "cell_type": "markdown",
   "id": "9985e987",
   "metadata": {},
   "source": [
    "## 2. Partes de un DataFrame"
   ]
  },
  {
   "cell_type": "markdown",
   "id": "f4950677",
   "metadata": {},
   "source": [
    "\n",
    "Puedes acceder a diferentes partes de un DataFrame de varias maneras:\n",
    "\n",
    "- Columnas: `df['columna']`\n",
    "- Filas: `df.iloc[i]` o `df.loc[i]`\n",
    "- Subconjuntos: combinando `iloc`, `loc`, o listas de columnas\n"
   ]
  },
  {
   "cell_type": "code",
   "execution_count": null,
   "id": "17cbde24",
   "metadata": {},
   "outputs": [],
   "source": [
    "\n",
    "# Acceder a una columna\n",
    "df['Producto']\n",
    "\n",
    "# Acceder a una fila\n",
    "df.iloc[1]\n",
    "\n",
    "# Subconjunto de columnas\n",
    "df[['Producto', 'Precio']]\n"
   ]
  },
  {
   "cell_type": "markdown",
   "id": "f7a2f21d",
   "metadata": {},
   "source": [
    "## 3. Ordenar y Subsetear"
   ]
  },
  {
   "cell_type": "code",
   "execution_count": null,
   "id": "0025d9eb",
   "metadata": {},
   "outputs": [],
   "source": [
    "\n",
    "# Ordenar por precio\n",
    "df.sort_values(by='Precio')\n",
    "\n",
    "# Filtrar por condición\n",
    "df[df['Cantidad'] > 80]\n"
   ]
  },
  {
   "cell_type": "markdown",
   "id": "e9e00ef1",
   "metadata": {},
   "source": [
    "## 4. Subsetting por columnas, filas y variables categóricas"
   ]
  },
  {
   "cell_type": "code",
   "execution_count": null,
   "id": "28d46fc1",
   "metadata": {},
   "outputs": [],
   "source": [
    "\n",
    "# Filtrar por categoría\n",
    "df[df['Categoría'] == 'Fruta Tropical']\n",
    "\n",
    "# Subconjunto de columnas específicas\n",
    "df.loc[:, ['Producto', 'Precio']]\n",
    "\n",
    "# Subconjunto de filas con condiciones múltiples\n",
    "df[(df['Cantidad'] > 60) & (df['Precio'] < 1)]\n"
   ]
  },
  {
   "cell_type": "markdown",
   "id": "7ffa78e9",
   "metadata": {},
   "source": [
    "## 5. Crear nuevas columnas"
   ]
  },
  {
   "cell_type": "code",
   "execution_count": null,
   "id": "19edace6",
   "metadata": {},
   "outputs": [],
   "source": [
    "\n",
    "# Crear columna de valor total\n",
    "df['Valor_Total'] = df['Precio'] * df['Cantidad']\n",
    "df.head()\n"
   ]
  },
  {
   "cell_type": "markdown",
   "id": "569320f3",
   "metadata": {},
   "source": [
    "## 6. Estadísticas resumen"
   ]
  },
  {
   "cell_type": "code",
   "execution_count": null,
   "id": "8863696f",
   "metadata": {},
   "outputs": [],
   "source": [
    "\n",
    "df['Precio'].mean()\n",
    "df['Precio'].median()\n",
    "df['Cantidad'].sum()\n",
    "df['Cantidad'].min(), df['Cantidad'].max()\n"
   ]
  },
  {
   "cell_type": "markdown",
   "id": "6b4075ba",
   "metadata": {},
   "source": [
    "## 7. Agrupamientos con groupby"
   ]
  },
  {
   "cell_type": "code",
   "execution_count": null,
   "id": "b7f06a29",
   "metadata": {},
   "outputs": [],
   "source": [
    "\n",
    "df.groupby(\"Categoría\")[\"Valor_Total\"].sum()\n",
    "df.groupby(\"Categoría\")[[\"Precio\", \"Cantidad\"]].mean()\n"
   ]
  },
  {
   "cell_type": "markdown",
   "id": "f23d3adf",
   "metadata": {},
   "source": [
    "## 8. Manejo de Índices"
   ]
  },
  {
   "cell_type": "code",
   "execution_count": null,
   "id": "82d2e7f5",
   "metadata": {},
   "outputs": [],
   "source": [
    "\n",
    "df_indexed = df.set_index(\"Producto\")\n",
    "df_indexed.loc[\"Manzana\"]\n",
    "df_indexed.reset_index().head()\n"
   ]
  },
  {
   "cell_type": "markdown",
   "id": "11aa4a53",
   "metadata": {},
   "source": [
    "## 9. Manejo de valores faltantes"
   ]
  },
  {
   "cell_type": "code",
   "execution_count": null,
   "id": "39adbe15",
   "metadata": {},
   "outputs": [],
   "source": [
    "\n",
    "# Detectar\n",
    "df.isnull().sum()\n",
    "\n",
    "# Rellenar\n",
    "df['Precio'] = df['Precio'].fillna(df['Precio'].mean())\n",
    "\n",
    "# Eliminar filas con valores faltantes\n",
    "df.dropna().head()\n"
   ]
  },
  {
   "cell_type": "markdown",
   "id": "9f45068d",
   "metadata": {},
   "source": [
    "## 10. Exportación de resultados a CSV"
   ]
  },
  {
   "cell_type": "code",
   "execution_count": null,
   "id": "d64d5eb5",
   "metadata": {},
   "outputs": [],
   "source": [
    "\n",
    "# Exportar el DataFrame limpio\n",
    "df.to_csv(\"datos_procesados.csv\", index=False)\n"
   ]
  }
 ],
 "metadata": {
  "kernelspec": {
   "display_name": "Python 3 (ipykernel)",
   "language": "python",
   "name": "python3"
  },
  "language_info": {
   "codemirror_mode": {
    "name": "ipython",
    "version": 3
   },
   "file_extension": ".py",
   "mimetype": "text/x-python",
   "name": "python",
   "nbconvert_exporter": "python",
   "pygments_lexer": "ipython3",
   "version": "3.10.4"
  }
 },
 "nbformat": 4,
 "nbformat_minor": 5
}
