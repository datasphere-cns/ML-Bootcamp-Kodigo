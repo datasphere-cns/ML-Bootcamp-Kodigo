{
 "cells": [
  {
   "cell_type": "markdown",
   "id": "fba786ef",
   "metadata": {},
   "source": [
    "\n",
    "# Funciones en Python\n",
    "\n",
    "Este notebook cubre los fundamentos del uso de funciones en Python, incluyendo su utilidad, estructura y múltiples ejemplos prácticos que van desde funciones simples hasta manipulaciones de cadenas y fechas.\n",
    "\n",
    "**Fecha:** 11/05/2025\n"
   ]
  },
  {
   "cell_type": "markdown",
   "id": "52ba510d",
   "metadata": {},
   "source": [
    "\n",
    "## ¿Qué es una función?\n",
    "\n",
    "Una función es un bloque de código que se puede reutilizar para realizar una tarea específica.  \n",
    "Las funciones permiten organizar mejor el código, evitar repeticiones y facilitar el mantenimiento.\n",
    "\n",
    "---\n",
    "\n",
    "## ¿Por qué usar funciones?\n",
    "\n",
    "- Para dividir un programa en partes más pequeñas y comprensibles.\n",
    "- Para reutilizar código en distintos puntos del programa.\n",
    "- Para mejorar la legibilidad y facilitar la depuración.\n",
    "- Para encapsular lógica que puede cambiar o necesitar ajustes.\n",
    "\n",
    "---\n",
    "\n",
    "## ¿Cómo se define una función en Python?\n",
    "\n",
    "Se usa la palabra clave `def`, seguida del nombre de la función, paréntesis con parámetros (si tiene) y dos puntos.  \n",
    "El bloque de código de la función se escribe con indentación.\n",
    "\n",
    "```python\n",
    "def saludar(nombre):\n",
    "    print(f\"Hola, {nombre}\")\n",
    "```\n"
   ]
  },
  {
   "cell_type": "markdown",
   "id": "aa957c88",
   "metadata": {},
   "source": [
    "## Ejemplo 1: Función que suma dos números"
   ]
  },
  {
   "cell_type": "code",
   "execution_count": 8,
   "id": "402596f4",
   "metadata": {},
   "outputs": [],
   "source": [
    "# Este es un comentario\n",
    "def sumar(a, b):\n",
    "    c=a+b\n",
    "    return c"
   ]
  },
  {
   "cell_type": "code",
   "execution_count": 9,
   "id": "8a3498d9-135f-420b-a7bb-1e15be4de352",
   "metadata": {},
   "outputs": [],
   "source": [
    "z=sumar(3, 5)"
   ]
  },
  {
   "cell_type": "code",
   "execution_count": 10,
   "id": "ec1ff73b-4256-4ad4-bf9e-36c0984405ad",
   "metadata": {},
   "outputs": [
    {
     "data": {
      "text/plain": [
       "8"
      ]
     },
     "execution_count": 10,
     "metadata": {},
     "output_type": "execute_result"
    }
   ],
   "source": [
    "z"
   ]
  },
  {
   "cell_type": "markdown",
   "id": "a3e30b13",
   "metadata": {},
   "source": [
    "## Ejemplo 2: Función que resta dos números"
   ]
  },
  {
   "cell_type": "code",
   "execution_count": 13,
   "id": "325d4a43",
   "metadata": {},
   "outputs": [],
   "source": [
    "def mi_resta(a, b):\n",
    "    c=a-b\n",
    "    return c\n"
   ]
  },
  {
   "cell_type": "code",
   "execution_count": 14,
   "id": "cd216a18-0163-422f-b582-e913a195a419",
   "metadata": {},
   "outputs": [
    {
     "data": {
      "text/plain": [
       "6"
      ]
     },
     "execution_count": 14,
     "metadata": {},
     "output_type": "execute_result"
    }
   ],
   "source": [
    "mi_resta(10, 4)"
   ]
  },
  {
   "cell_type": "markdown",
   "id": "61506ecc",
   "metadata": {},
   "source": [
    "## Ejemplo 3: Función que calcula el IVA del 13%"
   ]
  },
  {
   "cell_type": "code",
   "execution_count": 21,
   "id": "1a75df38",
   "metadata": {},
   "outputs": [],
   "source": [
    "def calcular_iva(precio=100, tasa=0.13):\n",
    "    return precio * tasa"
   ]
  },
  {
   "cell_type": "code",
   "execution_count": 22,
   "id": "6e5b89fa-793e-461d-b7d4-6b17902a8cd2",
   "metadata": {},
   "outputs": [
    {
     "data": {
      "text/plain": [
       "13.0"
      ]
     },
     "execution_count": 22,
     "metadata": {},
     "output_type": "execute_result"
    }
   ],
   "source": [
    "calcular_iva()"
   ]
  },
  {
   "cell_type": "markdown",
   "id": "60d89451",
   "metadata": {},
   "source": [
    "## Ejemplo 4: Obtener las primeras letras de una cadena"
   ]
  },
  {
   "cell_type": "code",
   "execution_count": 23,
   "id": "1e62c708",
   "metadata": {},
   "outputs": [
    {
     "name": "stdout",
     "output_type": "stream",
     "text": [
      "Ale\n"
     ]
    }
   ],
   "source": [
    "def obtener_iniciales(nombre):\n",
    "    return nombre[:3]\n",
    "\n",
    "print(obtener_iniciales(\"Alejandra\"))"
   ]
  },
  {
   "cell_type": "markdown",
   "id": "c59fdad8",
   "metadata": {},
   "source": [
    "## Ejemplo 5: Convertir texto a mayúsculas"
   ]
  },
  {
   "cell_type": "code",
   "execution_count": 24,
   "id": "9228ee83",
   "metadata": {},
   "outputs": [
    {
     "name": "stdout",
     "output_type": "stream",
     "text": [
      "PYTHON ES PODEROSO\n"
     ]
    }
   ],
   "source": [
    "def a_mayusculas(texto):\n",
    "    return texto.upper()\n",
    "\n",
    "print(a_mayusculas(\"python es poderoso\"))"
   ]
  },
  {
   "cell_type": "markdown",
   "id": "5a403009",
   "metadata": {},
   "source": [
    "## Ejemplo 6: Contar vocales en una cadena"
   ]
  },
  {
   "cell_type": "code",
   "execution_count": 30,
   "id": "08bd41fc",
   "metadata": {},
   "outputs": [],
   "source": [
    "def contar_vocales(cadena):\n",
    "    contador = 0\n",
    "    for letra in cadena.lower():\n",
    "        if letra in \"aeiou\":\n",
    "            contador += 1\n",
    "    return contador\n",
    "\n"
   ]
  },
  {
   "cell_type": "code",
   "execution_count": 31,
   "id": "6343724d-2577-449c-acc3-643899e7b797",
   "metadata": {},
   "outputs": [
    {
     "name": "stdout",
     "output_type": "stream",
     "text": [
      "4\n"
     ]
    }
   ],
   "source": [
    "print(contar_vocales(\"Educación\"))"
   ]
  },
  {
   "cell_type": "markdown",
   "id": "ece363a4",
   "metadata": {},
   "source": [
    "## Ejemplo 7: Verificar si un número es par"
   ]
  },
  {
   "cell_type": "code",
   "execution_count": 33,
   "id": "b6034e6d",
   "metadata": {},
   "outputs": [],
   "source": [
    "def es_par(numero):\n",
    "    return numero % 2 == 0\n"
   ]
  },
  {
   "cell_type": "code",
   "execution_count": 35,
   "id": "7cf9364f-e7d4-4a32-81af-5a222f50183c",
   "metadata": {},
   "outputs": [
    {
     "name": "stdout",
     "output_type": "stream",
     "text": [
      "True\n",
      "False\n"
     ]
    }
   ],
   "source": [
    "print(es_par(6))\n",
    "print(es_par(7))"
   ]
  },
  {
   "cell_type": "markdown",
   "id": "4f880c1e",
   "metadata": {},
   "source": [
    "## Ejemplo 8: Calcular días hasta una fecha futura"
   ]
  },
  {
   "cell_type": "code",
   "execution_count": 36,
   "id": "abc9bcb6",
   "metadata": {},
   "outputs": [],
   "source": [
    "from datetime import date\n",
    "def dias_hasta(fecha_futura):\n",
    "    hoy = date.today()\n",
    "    return (fecha_futura - hoy).days\n"
   ]
  },
  {
   "cell_type": "code",
   "execution_count": 37,
   "id": "29ef4a3e-c5f4-44ec-9e7f-2bec93fdcb9c",
   "metadata": {},
   "outputs": [
    {
     "name": "stdout",
     "output_type": "stream",
     "text": [
      "223\n"
     ]
    }
   ],
   "source": [
    "print(dias_hasta(date(2025, 12, 25)))"
   ]
  },
  {
   "cell_type": "markdown",
   "id": "ef21f29c",
   "metadata": {},
   "source": [
    "## Ejemplo 9: Convertir fecha a formato legible"
   ]
  },
  {
   "cell_type": "code",
   "execution_count": 38,
   "id": "98f72708",
   "metadata": {},
   "outputs": [
    {
     "name": "stdout",
     "output_type": "stream",
     "text": [
      "11 de May de 2025\n"
     ]
    }
   ],
   "source": [
    "def formato_legible(fecha):\n",
    "    return fecha.strftime(\"%d de %B de %Y\")\n",
    "    \n",
    "print(formato_legible(date(2025, 5, 11)))"
   ]
  },
  {
   "cell_type": "markdown",
   "id": "fc37ba8d",
   "metadata": {},
   "source": [
    "## Ejemplo 10: Función sin parámetros que imprime un saludo"
   ]
  },
  {
   "cell_type": "code",
   "execution_count": 39,
   "id": "5b06a013",
   "metadata": {},
   "outputs": [
    {
     "name": "stdout",
     "output_type": "stream",
     "text": [
      "Bienvenido al curso de Python\n"
     ]
    }
   ],
   "source": [
    "def saludar():\n",
    "    print(\"Bienvenido al curso de Python\")\n",
    "\n",
    "saludar()"
   ]
  },
  {
   "cell_type": "markdown",
   "id": "28146286-152b-4d74-a167-10c7686d39ff",
   "metadata": {},
   "source": [
    "##  Ejercicio: Análisis de calificaciones\n",
    "\n",
    "**Instrucciones:**\n",
    "\n",
    "Escribe una función llamada `analizar_calificaciones` que reciba una lista de calificaciones numéricas (valores entre 0 y 10) y realice lo siguiente:\n",
    "\n",
    "1. Calcule el **promedio** general de los estudiantes de la especialidad.  \n",
    "2. Determine cuántos estudiantes **aprobaron** (nota mayor o igual a 6).  \n",
    "3. Determine cuántos estudiantes **reprobaron** (nota menor a 6).  \n",
    "4. Devuelva un diccionario con los siguientes resultados:\n",
    "\n",
    "```python\n",
    "{\n",
    "    \"promedio\": valor_promedio,\n",
    "    \"aprobados\": cantidad_aprobados,\n",
    "    \"reprobados\": cantidad_reprobados\n",
    "}\n"
   ]
  },
  {
   "cell_type": "code",
   "execution_count": 19,
   "id": "be8d3c23-13e1-4ebc-b3d9-05cf0b08bc13",
   "metadata": {},
   "outputs": [],
   "source": [
    "### Solución en Python\n",
    "\n",
    "def analizar_calificaciones(notas):\n",
    "    suma = 0\n",
    "    aprobados = 0\n",
    "    reprobados = 0\n",
    "\n",
    "    for nota in notas:\n",
    "        suma += nota\n",
    "        if nota >= 6:\n",
    "            aprobados += 1\n",
    "        else:\n",
    "            reprobados += 1\n",
    "\n",
    "    promedio = round(suma / len(notas), 1)  # redondeado a un decimal\n",
    "\n",
    "    return {\n",
    "        \"promedio\": promedio,\n",
    "        \"aprobados\": aprobados,\n",
    "        \"reprobados\": reprobados\n",
    "    }"
   ]
  },
  {
   "cell_type": "code",
   "execution_count": 20,
   "id": "6642f759-7eb3-40b7-90eb-7519f0a91241",
   "metadata": {},
   "outputs": [
    {
     "name": "stdout",
     "output_type": "stream",
     "text": [
      "{'promedio': 6.9, 'aprobados': 4, 'reprobados': 2}\n"
     ]
    }
   ],
   "source": [
    "# Ejemplo de prueba\n",
    "notas = [8.5, 7.0, 5.9, 6.3, 9.2, 4.5]\n",
    "resultado = analizar_calificaciones(notas)\n",
    "print(resultado)"
   ]
  },
  {
   "cell_type": "markdown",
   "id": "f7091bcd-b6b0-4f19-ba28-01069425d542",
   "metadata": {},
   "source": [
    "## Ejercicios: Evaluación de riesgo de clientes bancarios\n",
    "\n",
    "**Instrucciones:**\n",
    "\n",
    "Escribe una función llamada `evaluar_riesgo_cliente` que reciba los siguientes parámetros:\n",
    "\n",
    "- `nombre`: nombre del cliente (string)\n",
    "- `pagos`: una lista con los montos pagados mensualmente (float)\n",
    "- `dias_atraso`: número total de días de atraso acumulado en el último año (entero)\n",
    "\n",
    "La función debe calcular:\n",
    "\n",
    "1. El **promedio de pagos mensuales**\n",
    "2. Determinar el **nivel de riesgo** del cliente, según estas reglas:\n",
    "\n",
    "| Condición | Nivel de riesgo |\n",
    "|----------|-----------------|\n",
    "| Promedio >= 500 y días de atraso <= 5 | \"Bajo\" |\n",
    "| Promedio >= 300 y días de atraso <= 15 | \"Medio\" |\n",
    "| Cualquier otro caso | \"Alto\" |\n",
    "\n",
    "La función debe retornar un diccionario con:\n",
    "\n",
    "```python\n",
    "{\n",
    "    \"cliente\": nombre,\n",
    "    \"promedio_pago\": valor,\n",
    "    \"dias_atraso\": valor,\n",
    "    \"riesgo\": \"Bajo\" / \"Medio\" / \"Alto\"\n",
    "}\n"
   ]
  },
  {
   "cell_type": "code",
   "execution_count": 21,
   "id": "152c4aa8-b41d-432e-826d-658ecbd68afd",
   "metadata": {},
   "outputs": [],
   "source": [
    "def evaluar_riesgo_cliente(nombre, pagos, dias_atraso):\n",
    "    promedio = sum(pagos) / len(pagos)\n",
    "\n",
    "    # Determinar el nivel de riesgo según las reglas del banco\n",
    "    if promedio >= 500 and dias_atraso <= 5:\n",
    "        riesgo = \"Bajo\"\n",
    "    elif promedio >= 300 and dias_atraso <= 15:\n",
    "        riesgo = \"Medio\"\n",
    "    else:\n",
    "        riesgo = \"Alto\"\n",
    "\n",
    "    return {\n",
    "        \"cliente\": nombre,\n",
    "        \"promedio_pago\": round(promedio, 1),\n",
    "        \"dias_atraso\": dias_atraso,\n",
    "        \"riesgo\": riesgo\n",
    "    }"
   ]
  },
  {
   "cell_type": "code",
   "execution_count": 22,
   "id": "57150213-c3b2-412e-9fea-1b768857d01a",
   "metadata": {},
   "outputs": [],
   "source": [
    "resultado = evaluar_riesgo_cliente(\"Ana Ramírez\", [520.5, 490.0, 505.0], 3)"
   ]
  },
  {
   "cell_type": "code",
   "execution_count": 23,
   "id": "79424f02-4f94-47ea-be56-253d704fbf61",
   "metadata": {},
   "outputs": [
    {
     "name": "stdout",
     "output_type": "stream",
     "text": [
      "{'cliente': 'Ana Ramírez', 'promedio_pago': 505.2, 'dias_atraso': 3, 'riesgo': 'Bajo'}\n"
     ]
    }
   ],
   "source": [
    "print(resultado)"
   ]
  },
  {
   "cell_type": "markdown",
   "id": "36b66489-28dd-4c35-a7a3-99f53405ddb3",
   "metadata": {},
   "source": [
    "### Función: Calcular rendimiento de una inversión\n",
    "\n",
    "Calcula el retorno total y el rendimiento anual compuesto (CAGR) de una inversión.\n",
    "\n",
    "Fórmulas:\n",
    "- Retorno total: (valor_final - valor_inicial) / valor_inicial\n",
    "- CAGR: (valor_final / valor_inicial) ** (1 / tiempo) - 1\n"
   ]
  },
  {
   "cell_type": "code",
   "execution_count": 25,
   "id": "8e9eb696-a735-46a8-a55c-6fe5a0cd72be",
   "metadata": {},
   "outputs": [],
   "source": [
    "def calcular_rendimiento_inversion(valor_inicial, valor_final, tiempo_anios):\n",
    "    retorno_total = (valor_final - valor_inicial) / valor_inicial\n",
    "    cagr = (valor_final / valor_inicial) ** (1 / tiempo_anios) - 1\n",
    "    return {\n",
    "        \"retorno_total\": round(retorno_total * 100, 2),\n",
    "        \"cagr\": round(cagr * 100, 2)\n",
    "    }\n"
   ]
  },
  {
   "cell_type": "code",
   "execution_count": 26,
   "id": "c3f87096-fcd1-4b92-bc60-d8ed488bbe90",
   "metadata": {},
   "outputs": [
    {
     "data": {
      "text/plain": [
       "{'retorno_total': 50.0, 'cagr': 14.47}"
      ]
     },
     "execution_count": 26,
     "metadata": {},
     "output_type": "execute_result"
    }
   ],
   "source": [
    "calcular_rendimiento_inversion(1000, 1500, 3)"
   ]
  },
  {
   "cell_type": "markdown",
   "id": "e5ef64be-7d4f-4bdd-a96b-a270724ad53b",
   "metadata": {},
   "source": [
    "### Función: Clasificar perfil de riesgo de inversionista\n",
    "\n",
    "Evalúa el perfil de riesgo del inversionista según su asignación de activos y horizonte de inversión."
   ]
  },
  {
   "cell_type": "code",
   "execution_count": 28,
   "id": "adfe375d-051f-4c40-bb9d-f0e4a368f0cb",
   "metadata": {},
   "outputs": [],
   "source": [
    "def clasificar_inversionista(porcentaje_renta_fija, porcentaje_renta_variable, horizonte_anios):\n",
    "    if porcentaje_renta_variable >= 70 and horizonte_anios >= 5:\n",
    "        return \"Agresivo\"\n",
    "    elif porcentaje_renta_variable >= 40:\n",
    "        return \"Moderado\"\n",
    "    else:\n",
    "        return \"Conservador\"\n"
   ]
  },
  {
   "cell_type": "code",
   "execution_count": 29,
   "id": "b244f446-107b-41d5-982f-8a5a2a099376",
   "metadata": {},
   "outputs": [
    {
     "data": {
      "text/plain": [
       "'Agresivo'"
      ]
     },
     "execution_count": 29,
     "metadata": {},
     "output_type": "execute_result"
    }
   ],
   "source": [
    "clasificar_inversionista(30, 70, 7)"
   ]
  },
  {
   "cell_type": "markdown",
   "id": "2601a842-7146-41de-b761-3f00ea138acd",
   "metadata": {},
   "source": [
    "### Función: Conversor de divisas\n",
    "\n",
    "Convierte un monto entre dos divisas usando tasas ficticias.\n",
    "\n",
    "Tasas disponibles:\n",
    "- USD → EUR: 0.92\n",
    "- USD → BTC: 0.000025\n",
    "- EUR → USD: 1.09\n"
   ]
  },
  {
   "cell_type": "code",
   "execution_count": 31,
   "id": "a4ec7db7-bd81-4c56-a6b5-942ccc639e8a",
   "metadata": {},
   "outputs": [],
   "source": [
    "def convertir_divisa(monto, origen, destino):\n",
    "    tasas = {\n",
    "        (\"USD\", \"EUR\"): 0.92,\n",
    "        (\"USD\", \"BTC\"): 0.000025,\n",
    "        (\"EUR\", \"USD\"): 1.09\n",
    "    }\n",
    "    clave = (origen.upper(), destino.upper())\n",
    "    if clave in tasas:\n",
    "        return round(monto * tasas[clave], 4)\n",
    "    else:\n",
    "        return \"Tasa no disponible\"\n"
   ]
  },
  {
   "cell_type": "code",
   "execution_count": 32,
   "id": "2dd23335-6b3f-47cd-943b-91f3b55e5098",
   "metadata": {},
   "outputs": [
    {
     "data": {
      "text/plain": [
       "920.0"
      ]
     },
     "execution_count": 32,
     "metadata": {},
     "output_type": "execute_result"
    }
   ],
   "source": [
    "convertir_divisa(1000, \"USD\", \"EUR\")"
   ]
  },
  {
   "cell_type": "markdown",
   "id": "8753a652-1f0c-4459-be33-463849ce58e4",
   "metadata": {},
   "source": [
    "### Función: Simular amortización de crédito\n",
    "\n",
    "Calcula la cuota mensual fija y el total pagado de un crédito usando la fórmula de anualidad.\n",
    "\n",
    "Fórmula de cuota:\n",
    "cuota = P * [r(1 + r)^n] / [(1 + r)^n - 1]\n",
    "Donde:\n",
    "- P es el monto del crédito\n",
    "- r es la tasa mensual (anual / 12)\n",
    "- n es el número de meses\n"
   ]
  },
  {
   "cell_type": "code",
   "execution_count": 34,
   "id": "4baa84b5-41a6-4d6f-a0cf-966a5785632f",
   "metadata": {},
   "outputs": [],
   "source": [
    "def simular_amortizacion(monto, tasa_anual, plazo_meses):\n",
    "    r = tasa_anual / 12\n",
    "    cuota = monto * (r * (1 + r) ** plazo_meses) / ((1 + r) ** plazo_meses - 1)\n",
    "    total_pagado = cuota * plazo_meses\n",
    "    return {\n",
    "        \"cuota_mensual\": round(cuota, 2),\n",
    "        \"total_pagado\": round(total_pagado, 2)\n",
    "    }"
   ]
  },
  {
   "cell_type": "code",
   "execution_count": 36,
   "id": "a376d132-4070-4caa-9038-db066d0feb4b",
   "metadata": {},
   "outputs": [
    {
     "data": {
      "text/plain": [
       "{'cuota_mensual': 950.44, 'total_pagado': 11405.3}"
      ]
     },
     "execution_count": 36,
     "metadata": {},
     "output_type": "execute_result"
    }
   ],
   "source": [
    "simular_amortizacion(10000, 0.25, 12)"
   ]
  }
 ],
 "metadata": {
  "kernelspec": {
   "display_name": "Python 3 (ipykernel)",
   "language": "python",
   "name": "python3"
  },
  "language_info": {
   "codemirror_mode": {
    "name": "ipython",
    "version": 3
   },
   "file_extension": ".py",
   "mimetype": "text/x-python",
   "name": "python",
   "nbconvert_exporter": "python",
   "pygments_lexer": "ipython3",
   "version": "3.10.4"
  }
 },
 "nbformat": 4,
 "nbformat_minor": 5
}
