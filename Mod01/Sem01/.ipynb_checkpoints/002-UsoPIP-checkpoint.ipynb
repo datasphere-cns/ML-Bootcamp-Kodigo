{
 "cells": [
  {
   "cell_type": "markdown",
   "id": "fe9d89f2-af65-40ad-aa25-b0d981f04656",
   "metadata": {},
   "source": [
    "# Introducción a `pip`: el gestor de paquetes de Python\n",
    "\n",
    "**Fecha:** 02/05/2025  \n",
    "**Autor:** Nelson Zepeda  \n",
    "\n",
    "## ¿Qué es `pip`?\n",
    "\n",
    "`pip` es el **sistema de gestión de paquetes** por defecto de Python.  \n",
    "Su nombre proviene de “Pip Installs Packages”.  \n",
    "Permite **instalar, actualizar, desinstalar y administrar** bibliotecas que no vienen incluidas en la instalación básica de Python.\n",
    "\n",
    "\n",
    "## ¿Por qué es importante?\n",
    "\n",
    "Python tiene una comunidad muy activa y miles de bibliotecas desarrolladas para extender sus capacidades.  \n",
    "`pip` es la herramienta que nos permite:\n",
    "\n",
    "- Acceder fácilmente a esas bibliotecas desde internet.\n",
    "- Mantener nuestros paquetes organizados y actualizados.\n",
    "- Reproducir entornos de trabajo en otros equipos.\n",
    "- Usar bibliotecas especializadas para ciencia de datos, desarrollo web, automatización, inteligencia artificial, entre muchas otras áreas.\n",
    "\n",
    "## ¿Dónde obtiene `pip` los paquetes?\n",
    "\n",
    "`pip` descarga los paquetes desde **PyPI** (Python Package Index), que es el repositorio oficial de paquetes de Python:  \n",
    "https://pypi.org/\n",
    "\n",
    "Cuando ejecutas un comando como `pip install pandas`, lo que hace internamente es buscar ese paquete en PyPI, descargarlo e instalarlo en tu sistema o entorno virtual.\n",
    "\n",
    "## ¿Qué puedes hacer con `pip`?\n",
    "\n",
    "- Instalar un nuevo paquete:  \n",
    "\n",
    "- Desinstalar un paquete:  \n",
    "\n",
    "- Ver información sobre un paquete instalado:  \n",
    "\n",
    "- Ver todos los paquetes instalados:  \n",
    "\n",
    "- Actualizar un paquete existente:  \n"
   ]
  },
  {
   "cell_type": "code",
   "execution_count": 7,
   "id": "656597d3-8703-436c-9f04-7294730ab3ce",
   "metadata": {},
   "outputs": [
    {
     "name": "stdout",
     "output_type": "stream",
     "text": [
      "pip 25.1.1 from C:\\virtual_environment\\bootcamp03\\lib\\site-packages\\pip (python 3.10)\n",
      "\n",
      "Note: you may need to restart the kernel to use updated packages.\n"
     ]
    }
   ],
   "source": [
    "pip --version"
   ]
  },
  {
   "cell_type": "code",
   "execution_count": 8,
   "id": "2e1d8859-0a25-4da4-8a4e-355a517b50c7",
   "metadata": {},
   "outputs": [
    {
     "name": "stdout",
     "output_type": "stream",
     "text": [
      "Name: pip\n",
      "Version: 25.1.1\n",
      "Summary: The PyPA recommended tool for installing Python packages.\n",
      "Home-page: https://pip.pypa.io/\n",
      "Author: \n",
      "Author-email: The pip developers <distutils-sig@python.org>\n",
      "License: MIT\n",
      "Location: c:\\virtual_environment\\bootcamp03\\lib\\site-packages\n",
      "Requires: \n",
      "Required-by: \n",
      "Note: you may need to restart the kernel to use updated packages.\n"
     ]
    }
   ],
   "source": [
    "pip show pip"
   ]
  },
  {
   "cell_type": "code",
   "execution_count": 3,
   "id": "7424941d-0876-48f0-a23f-2cbf0e10969e",
   "metadata": {},
   "outputs": [
    {
     "name": "stdout",
     "output_type": "stream",
     "text": [
      "Requirement already satisfied: requests in c:\\virtual_environment\\bootcamp03\\lib\\site-packages (2.32.3)\n",
      "Requirement already satisfied: certifi>=2017.4.17 in c:\\virtual_environment\\bootcamp03\\lib\\site-packages (from requests) (2025.4.26)\n",
      "Requirement already satisfied: urllib3<3,>=1.21.1 in c:\\virtual_environment\\bootcamp03\\lib\\site-packages (from requests) (2.4.0)\n",
      "Requirement already satisfied: idna<4,>=2.5 in c:\\virtual_environment\\bootcamp03\\lib\\site-packages (from requests) (3.10)\n",
      "Requirement already satisfied: charset-normalizer<4,>=2 in c:\\virtual_environment\\bootcamp03\\lib\\site-packages (from requests) (3.4.2)\n",
      "Note: you may need to restart the kernel to use updated packages.\n"
     ]
    },
    {
     "name": "stderr",
     "output_type": "stream",
     "text": [
      "WARNING: You are using pip version 22.0.4; however, version 25.1.1 is available.\n",
      "You should consider upgrading via the 'C:\\virtual_environment\\bootcamp03\\Scripts\\python.exe -m pip install --upgrade pip' command.\n"
     ]
    }
   ],
   "source": [
    "pip install requests"
   ]
  },
  {
   "cell_type": "code",
   "execution_count": 9,
   "id": "c8505688-539d-40c0-bbb7-3ea49a7a4516",
   "metadata": {},
   "outputs": [
    {
     "name": "stdout",
     "output_type": "stream",
     "text": [
      "Name: requests\n",
      "Version: 2.32.3\n",
      "Summary: Python HTTP for Humans.\n",
      "Home-page: https://requests.readthedocs.io\n",
      "Author: Kenneth Reitz\n",
      "Author-email: me@kennethreitz.org\n",
      "License: Apache-2.0\n",
      "Location: c:\\virtual_environment\\bootcamp03\\lib\\site-packages\n",
      "Requires: certifi, charset-normalizer, idna, urllib3\n",
      "Required-by: jupyterlab_server\n",
      "Note: you may need to restart the kernel to use updated packages.\n"
     ]
    }
   ],
   "source": [
    "pip show requests"
   ]
  },
  {
   "cell_type": "raw",
   "id": "24443fb8-9752-4878-87f5-033a15bc2af3",
   "metadata": {},
   "source": [
    "pip uninstall requests"
   ]
  },
  {
   "cell_type": "code",
   "execution_count": 6,
   "id": "61d2e9f7-8c74-47a9-85d0-3948117cf4c9",
   "metadata": {},
   "outputs": [
    {
     "name": "stdout",
     "output_type": "stream",
     "text": [
      "Requirement already satisfied: pip in c:\\virtual_environment\\bootcamp03\\lib\\site-packages (22.0.4)\n",
      "Collecting pip\n",
      "  Downloading pip-25.1.1-py3-none-any.whl (1.8 MB)\n",
      "     ---------------------------------------- 1.8/1.8 MB 4.1 MB/s eta 0:00:00\n",
      "Installing collected packages: pip\n",
      "  Attempting uninstall: pip\n",
      "    Found existing installation: pip 22.0.4\n",
      "    Uninstalling pip-22.0.4:\n",
      "      Successfully uninstalled pip-22.0.4\n",
      "Successfully installed pip-25.1.1\n",
      "Note: you may need to restart the kernel to use updated packages.\n"
     ]
    }
   ],
   "source": [
    "pip install --upgrade pip"
   ]
  },
  {
   "cell_type": "code",
   "execution_count": null,
   "id": "9751ac26-6434-45fa-9bc2-7e09ee26a314",
   "metadata": {},
   "outputs": [],
   "source": [
    "pip list"
   ]
  },
  {
   "cell_type": "code",
   "execution_count": 11,
   "id": "9094cae1-bd6a-46f0-8d8f-a1c90af7abf1",
   "metadata": {},
   "outputs": [
    {
     "name": "stdout",
     "output_type": "stream",
     "text": [
      "Note: you may need to restart the kernel to use updated packages.\n"
     ]
    }
   ],
   "source": [
    "pip freeze > NelsonPaquetes.txt"
   ]
  }
 ],
 "metadata": {
  "kernelspec": {
   "display_name": "Python 3 (ipykernel)",
   "language": "python",
   "name": "python3"
  },
  "language_info": {
   "codemirror_mode": {
    "name": "ipython",
    "version": 3
   },
   "file_extension": ".py",
   "mimetype": "text/x-python",
   "name": "python",
   "nbconvert_exporter": "python",
   "pygments_lexer": "ipython3",
   "version": "3.10.4"
  }
 },
 "nbformat": 4,
 "nbformat_minor": 5
}
