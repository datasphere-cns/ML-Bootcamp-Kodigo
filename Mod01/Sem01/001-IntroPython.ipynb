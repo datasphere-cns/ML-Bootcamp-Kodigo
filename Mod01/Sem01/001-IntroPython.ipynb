{
 "cells": [
  {
   "cell_type": "markdown",
   "id": "2ebd7629",
   "metadata": {},
   "source": [
    "\n",
    "# Python desde cero: Tipos de Datos, Variables, Operaciones y Fechas\n",
    "\n",
    "Este notebook está diseñado para personas que están comenzando su camino en la programación con Python.  \n",
    "Exploraremos los conceptos fundamentales necesarios para crear programas simples: variables, tipos de datos, operaciones básicas, estructuras de datos y manejo de fechas.\n",
    "\n",
    "**Fecha:** 02/05/2025  \n",
    "**Autor:** Nelson Zepeda  \n"
   ]
  },
  {
   "cell_type": "markdown",
   "id": "64777581",
   "metadata": {},
   "source": [
    "## 1. Variables y Tipos de Datos"
   ]
  },
  {
   "cell_type": "markdown",
   "id": "0d214b53",
   "metadata": {},
   "source": [
    "\n",
    "En Python, una **variable** es un nombre que se le da a un espacio en memoria para almacenar un valor.  \n",
    "Los **tipos de datos básicos** más comunes son:\n",
    "\n",
    "- `str`: texto (string)\n",
    "- `int`: número entero\n",
    "- `float`: número decimal\n",
    "- `bool`: verdadero o falso (booleano)\n",
    "\n",
    "Podemos ver el tipo de una variable usando la función `type()`.\n"
   ]
  },
  {
   "cell_type": "code",
   "execution_count": 9,
   "id": "b2f6e898",
   "metadata": {},
   "outputs": [],
   "source": [
    "# Declaración de variables\n",
    "nombre = \"María\"\n",
    "edad = 28\n",
    "temperatura = 36.6\n",
    "matriculado = True "
   ]
  },
  {
   "cell_type": "code",
   "execution_count": 4,
   "id": "0925415d-cfac-418e-a27d-a275ebe5bc4e",
   "metadata": {},
   "outputs": [
    {
     "name": "stdout",
     "output_type": "stream",
     "text": [
      "1\n"
     ]
    }
   ],
   "source": [
    "print(nombre)"
   ]
  },
  {
   "cell_type": "code",
   "execution_count": 6,
   "id": "c408370e-3a7d-4221-808b-748a9cf90920",
   "metadata": {},
   "outputs": [],
   "source": [
    "nombre = \"María\""
   ]
  },
  {
   "cell_type": "code",
   "execution_count": 7,
   "id": "50a1de2f-c386-472e-ba6c-45fe85c8848f",
   "metadata": {},
   "outputs": [
    {
     "data": {
      "text/plain": [
       "str"
      ]
     },
     "execution_count": 7,
     "metadata": {},
     "output_type": "execute_result"
    }
   ],
   "source": [
    "type(nombre)"
   ]
  },
  {
   "cell_type": "code",
   "execution_count": 10,
   "id": "a60896f1-4dd2-4196-993d-a9ca45955a58",
   "metadata": {},
   "outputs": [
    {
     "name": "stdout",
     "output_type": "stream",
     "text": [
      "<class 'str'>\n",
      "<class 'int'>\n",
      "<class 'float'>\n",
      "<class 'bool'>\n"
     ]
    }
   ],
   "source": [
    "# Mostrar los tipos\n",
    "print(type(nombre))        \n",
    "print(type(edad))          \n",
    "print(type(temperatura))   \n",
    "print(type(matriculado))  "
   ]
  },
  {
   "cell_type": "markdown",
   "id": "b67b37d3",
   "metadata": {},
   "source": [
    "\n",
    "### Conversión de tipos\n",
    "\n",
    "Es común necesitar cambiar el tipo de una variable. Por ejemplo, de entero a decimal o de booleano a texto.\n"
   ]
  },
  {
   "cell_type": "code",
   "execution_count": 11,
   "id": "328345c5",
   "metadata": {},
   "outputs": [],
   "source": [
    "edad_decimal = float(edad)\n",
    "temperatura_entera = int(temperatura)\n",
    "estado = str(matriculado)"
   ]
  },
  {
   "cell_type": "code",
   "execution_count": 12,
   "id": "88cf5733-f6e1-453b-a14c-5419d5c6933d",
   "metadata": {},
   "outputs": [
    {
     "name": "stdout",
     "output_type": "stream",
     "text": [
      "Edad como decimal: 28.0\n",
      "Temperatura como entero: 36\n",
      "Estado como texto: True\n"
     ]
    }
   ],
   "source": [
    "print(\"Edad como decimal:\", edad_decimal)\n",
    "print(\"Temperatura como entero:\", temperatura_entera)\n",
    "print(\"Estado como texto:\", estado)"
   ]
  },
  {
   "cell_type": "markdown",
   "id": "aa165048",
   "metadata": {},
   "source": [
    "## 2. Operaciones Básicas"
   ]
  },
  {
   "cell_type": "markdown",
   "id": "d1fe4faa",
   "metadata": {},
   "source": [
    "\n",
    "Python permite realizar operaciones aritméticas básicas:\n",
    "\n",
    "- `+` suma  \n",
    "- `-` resta  \n",
    "- `*` multiplicación  \n",
    "- `/` división  \n",
    "- `//` división entera  \n",
    "- `%` módulo (residuo)  \n",
    "- `**` potencia  \n"
   ]
  },
  {
   "cell_type": "code",
   "execution_count": 14,
   "id": "00477c3f",
   "metadata": {},
   "outputs": [],
   "source": [
    "precio_unitario = 4.5\n",
    "cantidad = 3"
   ]
  },
  {
   "cell_type": "code",
   "execution_count": 15,
   "id": "62b85612-e929-4f55-9f4d-d7699f68a246",
   "metadata": {},
   "outputs": [],
   "source": [
    "subtotal = precio_unitario * cantidad\n",
    "iva = subtotal * 0.13\n",
    "total = subtotal + iva\n",
    "total_redondeado = round(total, 2)"
   ]
  },
  {
   "cell_type": "code",
   "execution_count": 16,
   "id": "07ce2caf-d751-4bb5-8a0c-2ffc00e447a9",
   "metadata": {},
   "outputs": [
    {
     "name": "stdout",
     "output_type": "stream",
     "text": [
      "Subtotal: 13.5\n",
      "IVA: 1.7550000000000001\n",
      "Total con IVA: 15.26\n"
     ]
    }
   ],
   "source": [
    "print(\"Subtotal:\", subtotal)\n",
    "print(\"IVA:\", iva)\n",
    "print(\"Total con IVA:\", total_redondeado)"
   ]
  },
  {
   "cell_type": "markdown",
   "id": "62fba989",
   "metadata": {},
   "source": [
    "### Operaciones con texto (strings)"
   ]
  },
  {
   "cell_type": "code",
   "execution_count": 17,
   "id": "6f98150e",
   "metadata": {},
   "outputs": [],
   "source": [
    "mensaje = \"Hola \"\n",
    "nombre = \"María\""
   ]
  },
  {
   "cell_type": "code",
   "execution_count": 18,
   "id": "f78cdd00-292f-45b1-8c1b-833df788da09",
   "metadata": {},
   "outputs": [],
   "source": [
    "saludo = mensaje + nombre"
   ]
  },
  {
   "cell_type": "code",
   "execution_count": 19,
   "id": "f00037e4-5e90-4f91-9a96-47e8cc8e1262",
   "metadata": {},
   "outputs": [
    {
     "name": "stdout",
     "output_type": "stream",
     "text": [
      "Hola María\n",
      "Longitud del nombre: 5\n"
     ]
    }
   ],
   "source": [
    "print(saludo)\n",
    "print(\"Longitud del nombre:\", len(nombre))"
   ]
  },
  {
   "cell_type": "markdown",
   "id": "7b4ce964",
   "metadata": {},
   "source": [
    "## 3. Estructuras de Datos en Python"
   ]
  },
  {
   "cell_type": "markdown",
   "id": "50212349",
   "metadata": {},
   "source": [
    "\n",
    "Python tiene varias formas de guardar conjuntos de valores:\n",
    "\n",
    "- `list` (lista): ordenada, modificable, permite duplicados\n",
    "- `tuple` (tupla): ordenada, **no modificable**\n",
    "- `set` (conjunto): **no ordenada**, **sin duplicados**\n",
    "- `dict` (diccionario): pares clave-valor\n",
    "\n",
    "Estas estructuras son muy importantes para trabajar con datos.\n"
   ]
  },
  {
   "cell_type": "markdown",
   "id": "11551e16",
   "metadata": {},
   "source": [
    "### Listas\n",
    "Una lista en Python es una estructura de datos ordenada y mutable que permite almacenar múltiples valores en una sola variable. Puedes pensar en una lista como una colección de elementos, similar a una fila de objetos, donde cada objeto tiene una posición (índice).\n",
    "Mutable significa que un objeto puede ser modificado después de haber sido creado.\n",
    "En Python, cuando un tipo de dato es mutable, puedes cambiar su contenido sin cambiar su identidad (es decir, sin crear una nueva variable).\n",
    "\n",
    "- Se usan corchetes [].\n",
    "- Los elementos pueden ser de cualquier tipo (texto, números, booleanos, incluso otras listas).\n",
    "- Los elementos se acceden por índices, comenzando desde 0.\n",
    "\n",
    "¿Cuándo debes usar una lista?\n",
    "Usa una lista cuando:\n",
    "\n",
    "- Necesitas almacenar varios valores relacionados en una sola variable.\n",
    "- Quieres agregar, eliminar o modificar elementos con frecuencia.\n",
    "- El orden de los elementos importa.\n",
    "- Vas a recorrerlos en un bucle (for) o realizar operaciones sobre todos ellos.\n",
    "\n",
    "Métodos útiles de listas\n",
    "- append(valor) → Agrega un elemento al final\n",
    "- remove(valor) → Elimina la primera aparición del valor\n",
    "- pop(indice) → Elimina y retorna el valor en una posición\n",
    "- sort() → Ordena la lista\n",
    "- reverse() → Invierte el orden"
   ]
  },
  {
   "cell_type": "code",
   "execution_count": 20,
   "id": "1a2bf9ae",
   "metadata": {},
   "outputs": [],
   "source": [
    "frutas = [\"manzana\", \"pera\", \"mango\", \"piña\", \"uvas\"]"
   ]
  },
  {
   "cell_type": "code",
   "execution_count": 21,
   "id": "1d9ea09f-c722-4df2-8475-1699ff768178",
   "metadata": {},
   "outputs": [
    {
     "name": "stdout",
     "output_type": "stream",
     "text": [
      "Lista final: ['mango', 'manzana', 'piña', 'sandía', 'uvas']\n",
      "Primeras 3 frutas: ['mango', 'manzana', 'piña']\n"
     ]
    }
   ],
   "source": [
    "frutas.append(\"sandía\")\n",
    "frutas.remove(\"pera\")\n",
    "frutas.sort()\n",
    "print(\"Lista final:\", frutas)\n",
    "print(\"Primeras 3 frutas:\", frutas[:3])"
   ]
  },
  {
   "cell_type": "markdown",
   "id": "3cf42263",
   "metadata": {},
   "source": [
    "### Tuplas\n",
    "\n",
    "Una tupla es una estructura de datos ordenada e inmutable. Al igual que las listas, permite almacenar una colección de elementos, pero a diferencia de estas, su contenido no puede modificarse después de haber sido creado.\n",
    "\n",
    "Características principales\n",
    "- Son ordenadas: los elementos mantienen un orden definido.\n",
    "- Son inmutables: no se pueden agregar, eliminar ni modificar elementos una vez que la tupla ha sido creada.\n",
    "- Permiten elementos duplicados: se pueden repetir valores dentro de una misma tupla.\n",
    "- Se pueden recorrer con estructuras de control como ciclos for o mediante indexación.\n",
    "- Tienen mejor rendimiento en cuanto a velocidad y uso de memoria que las listas en ciertas operaciones.\n",
    "- Se pueden anidar: es posible tener tuplas dentro de tuplas.\n",
    "- Pueden contener diferentes tipos de datos: enteros, cadenas, booleanos, otras estructuras, etc.\n",
    "\n",
    "Usos comunes\n",
    "- Para representar colecciones de datos que no deben cambiar, como coordenadas, constantes, configuraciones, fechas o valores predefinidos.\n",
    "- Para asegurar integridad de los datos, ya que no se pueden alterar por accidente.\n",
    "- En contextos donde se requiere eficiencia en rendimiento, especialmente en estructuras de gran volumen de datos que no serán modificadas.\n",
    "- Como claves en diccionarios, dado que las tuplas son hashables si sus elementos también lo son.\n",
    "\n",
    "Comparación con listas\n",
    "- Las listas son mutables y permiten modificar su contenido dinámicamente.\n",
    "- Las tuplas son inmutables, por lo que ofrecen mayor seguridad y eficiencia cuando se requiere una colección de datos constante.\n",
    "- Las listas son más flexibles, pero las tuplas pueden ser preferidas cuando se desea que los datos permanezcan fijos a lo largo del tiempo o cuando - - se utilizan como claves en estructuras hash como diccionarios o sets.\n",
    "\n"
   ]
  },
  {
   "cell_type": "code",
   "execution_count": 6,
   "id": "33c92912",
   "metadata": {},
   "outputs": [
    {
     "name": "stdout",
     "output_type": "stream",
     "text": [
      "Latitud: 13.6929\n"
     ]
    }
   ],
   "source": [
    "\n",
    "coordenadas = (13.6929, -89.2182)\n",
    "print(\"Latitud:\", coordenadas[0])\n"
   ]
  },
  {
   "cell_type": "markdown",
   "id": "0c937420",
   "metadata": {},
   "source": [
    "### Conjuntos (Sets)\n",
    "\n",
    "Un conjunto en Python es una colección no ordenada, sin elementos duplicados y mutable. Se basa en el concepto matemático de conjunto y es útil para realizar operaciones como uniones, intersecciones y diferencias.\n",
    "\n",
    "Características principales\n",
    "- Son no ordenados: los elementos no tienen una posición fija ni se accede a ellos por índice.\n",
    "- No permiten elementos duplicados: si se agrega un valor repetido, este se ignora automáticamente.\n",
    "- Son mutables: se pueden agregar o eliminar elementos después de haber sido creados.\n",
    "- Pueden contener elementos de tipos inmutables: como números, cadenas o tuplas (siempre que estas últimas no contengan elementos mutables).\n",
    "- Son dinámicos: el contenido puede cambiar en tiempo de ejecución.\n",
    "- Son eficientes para pruebas de pertenencia: consultar si un elemento está en un conjunto es más rápido que en una lista.\n",
    "\n",
    "Usos comunes\n",
    "- Eliminar duplicados de una colección de datos.\n",
    "- Verificar si un valor existe en una colección de forma eficiente.\n",
    "- Realizar operaciones de teoría de conjuntos, como:\n",
    "    - Unión\n",
    "    - Intersección\n",
    "    - Diferencia\n",
    "    - Diferencia simétrica\n",
    "- Representar grupos únicos de elementos cuando el orden no es relevante.\n",
    "- Comparar rápidamente contenidos entre dos o más colecciones.\n",
    "\n",
    "Operaciones comunes\n",
    "Los conjuntos admiten operaciones propias de la teoría de conjuntos:\n",
    "\n",
    "- Unión: combina los elementos de dos conjuntos, eliminando duplicados.\n",
    "- Intersección: obtiene los elementos comunes entre dos conjuntos.\n",
    "- Diferencia: obtiene los elementos que están en un conjunto pero no en otro.\n",
    "- Diferencia simétrica: obtiene los elementos que están en uno u otro conjunto, pero no en ambos.\n",
    "\n",
    "Subconjuntos y superconjuntos: permiten verificar si un conjunto está contenido dentro de otro o si lo contiene.\n",
    "\n",
    "Comparación con listas y tuplas\n",
    "- A diferencia de las listas y las tuplas, los conjuntos no mantienen el orden de los elementos.\n",
    "- Los conjuntos son ideales cuando la unicidad de los elementos es un requisito.\n",
    "- No se puede acceder a sus elementos por índice como se hace en las listas o tuplas.\n",
    "- Son más eficientes en operaciones de pertenencia y comparación.\n",
    "\n"
   ]
  },
  {
   "cell_type": "code",
   "execution_count": 22,
   "id": "3fdd9497",
   "metadata": {},
   "outputs": [
    {
     "name": "stdout",
     "output_type": "stream",
     "text": [
      "Conjunto: {1, 3, 4, 5}\n"
     ]
    }
   ],
   "source": [
    "\n",
    "numeros = {1, 2, 3, 3, 4}\n",
    "numeros.add(5)\n",
    "numeros.discard(2)\n",
    "print(\"Conjunto:\", numeros)\n"
   ]
  },
  {
   "cell_type": "markdown",
   "id": "7aa75f2d",
   "metadata": {},
   "source": [
    "### Diccionarios\n",
    "\n",
    "Un **diccionario** en Python es una estructura de datos que almacena pares **clave–valor**. Es una colección **desordenada** (en versiones anteriores a Python 3.7) y **mutable**, utilizada para representar relaciones entre datos, donde cada valor está asociado a una clave única.\n",
    "\n",
    "### Características principales\n",
    "\n",
    "- Se componen de pares **clave: valor**.\n",
    "- Las **claves deben ser únicas** dentro del diccionario.\n",
    "- Las claves deben ser **inmutables** (como strings, números o tuplas), pero los valores pueden ser de cualquier tipo.\n",
    "- Son **mutables**: se pueden agregar, actualizar o eliminar elementos después de haber sido creados.\n",
    "- Son **dinámicos**: se pueden construir y modificar en tiempo de ejecución.\n",
    "- Permiten un acceso **directo y rápido** a los valores usando las claves.\n",
    "\n",
    "### Usos comunes\n",
    "\n",
    "- Representar **objetos reales o entidades** con atributos (por ejemplo, una persona con nombre, edad, ciudad).\n",
    "- Estructurar datos tipo **registro** o **JSON**, como en APIs o bases de datos.\n",
    "- Crear **mapas de datos** donde se necesita asociar claves únicas a valores.\n",
    "- Agrupar **información relacionada** y facilitar su consulta directa mediante una clave.\n",
    "- Contar o agrupar frecuencias de elementos (por ejemplo, conteo de palabras en un texto).\n",
    "\n",
    "### Operaciones comunes\n",
    "\n",
    "Los diccionarios permiten realizar diversas operaciones:\n",
    "\n",
    "- Agregar una nueva clave con un valor asociado.\n",
    "- Modificar el valor de una clave existente.\n",
    "- Eliminar claves mediante métodos específicos.\n",
    "- Consultar la existencia de una clave en el diccionario.\n",
    "- Obtener listas de claves, valores o pares completos.\n",
    "- Iterar sobre sus claves, valores o ambos simultáneamente.\n",
    "\n",
    "### Comparación con otras estructuras\n",
    "\n",
    "- A diferencia de listas, tuplas y conjuntos, los diccionarios **no utilizan índices numéricos**, sino claves.\n",
    "- Proveen un acceso **más semántico y directo**, lo que los hace especialmente útiles para representar datos estructurados.\n",
    "- Son más eficientes para búsquedas por clave que las listas o tuplas para búsquedas por posición."
   ]
  },
  {
   "cell_type": "code",
   "execution_count": 23,
   "id": "436211a8",
   "metadata": {},
   "outputs": [
    {
     "name": "stdout",
     "output_type": "stream",
     "text": [
      "nombre : Carlos\n",
      "edad : 31\n",
      "ciudad : San Salvador\n",
      "carrera : Ingeniería\n",
      "email : carlos@example.com\n"
     ]
    }
   ],
   "source": [
    "\n",
    "persona = {\n",
    "    \"nombre\": \"Carlos\",\n",
    "    \"edad\": 30,\n",
    "    \"ciudad\": \"San Salvador\",\n",
    "    \"carrera\": \"Ingeniería\"\n",
    "}\n",
    "persona[\"email\"] = \"carlos@example.com\"\n",
    "persona[\"edad\"] = 31\n",
    "for clave in persona:\n",
    "    print(clave, \":\", persona[clave])\n"
   ]
  },
  {
   "cell_type": "markdown",
   "id": "120c4071",
   "metadata": {},
   "source": [
    "## 4. Operaciones con Listas y Datos Numéricos"
   ]
  },
  {
   "cell_type": "code",
   "execution_count": 9,
   "id": "ee5f229d",
   "metadata": {},
   "outputs": [
    {
     "name": "stdout",
     "output_type": "stream",
     "text": [
      "Suma: 15\n",
      "Máximo: 5\n",
      "Mínimo: 1\n",
      "Redondeo de 3.14159 a 2 decimales: 3.14\n"
     ]
    }
   ],
   "source": [
    "\n",
    "numeros = [1, 2, 3, 4, 5]\n",
    "print(\"Suma:\", sum(numeros))\n",
    "print(\"Máximo:\", max(numeros))\n",
    "print(\"Mínimo:\", min(numeros))\n",
    "print(\"Redondeo de 3.14159 a 2 decimales:\", round(3.14159, 2))\n"
   ]
  },
  {
   "cell_type": "markdown",
   "id": "60df3a37",
   "metadata": {},
   "source": [
    "## 5. Manejo de Fechas"
   ]
  },
  {
   "cell_type": "markdown",
   "id": "4287a7b0",
   "metadata": {},
   "source": [
    "\n",
    "Python usa el módulo `datetime` para trabajar con fechas.  \n",
    "Puedes obtener la fecha actual, restar o sumar días, y calcular diferencias de tiempo.\n"
   ]
  },
  {
   "cell_type": "code",
   "execution_count": 25,
   "id": "5be35a6f",
   "metadata": {},
   "outputs": [
    {
     "name": "stdout",
     "output_type": "stream",
     "text": [
      "Fecha de hoy: 2025-05-12\n",
      "Días desde tu nacimiento: 11016\n",
      "Fecha dentro de 100 días: 2025-08-20\n"
     ]
    }
   ],
   "source": [
    "from datetime import date, datetime, timedelta\n",
    "\n",
    "hoy = date.today()\n",
    "print(\"Fecha de hoy:\", hoy)\n",
    "\n",
    "nacimiento = date(1995, 3, 15)\n",
    "dias_pasados = (hoy - nacimiento).days\n",
    "print(\"Días desde tu nacimiento:\", dias_pasados)\n",
    "\n",
    "mas_100_dias = hoy + timedelta(days=100)\n",
    "print(\"Fecha dentro de 100 días:\", mas_100_dias)\n"
   ]
  },
  {
   "cell_type": "markdown",
   "id": "aff42e3c",
   "metadata": {},
   "source": [
    "## 6. Factura"
   ]
  },
  {
   "cell_type": "markdown",
   "id": "cfe2c3a2",
   "metadata": {},
   "source": [
    "\n",
    "Crearás un diccionario con información de una factura, que contenga:\n",
    "\n",
    "- Nombre del cliente  \n",
    "- Fecha actual  \n",
    "- Lista de productos  \n",
    "- Lista de precios  \n",
    "\n",
    "Luego, calcularás el total y mostrarás un resumen.\n"
   ]
  },
  {
   "cell_type": "code",
   "execution_count": 27,
   "id": "d17142ee",
   "metadata": {},
   "outputs": [
    {
     "name": "stdout",
     "output_type": "stream",
     "text": [
      "Cliente Juan Pérez debe pagar $2.25 por 3 productos.\n"
     ]
    }
   ],
   "source": [
    "\n",
    "factura = {\n",
    "    \"cliente\": \"Juan Pérez\",\n",
    "    \"fecha\": date.today(),\n",
    "    \"productos\": [\"cuaderno\", \"lápiz\", \"borrador\"],\n",
    "    \"precios\": [1.5, 0.5, 0.25]\n",
    "}\n",
    "\n",
    "total = sum(factura[\"precios\"])\n",
    "cantidad = len(factura[\"productos\"])\n",
    "print(f\"Cliente {factura['cliente']} debe pagar ${total} por {cantidad} productos.\")\n"
   ]
  },
  {
   "cell_type": "markdown",
   "id": "90855dff-7e5b-4cf6-b574-4b8b85c76236",
   "metadata": {},
   "source": [
    "## Ejercicio 1: Diccionario de película\n",
    "\n",
    "**Instrucciones:**\n",
    "\n",
    "1. Crea un diccionario llamado `pelicula` con la siguiente información:\n",
    "   - título: \"Coco\"  \n",
    "   - año: 2017  \n",
    "   - director: \"Lee Unkrich\"  \n",
    "\n",
    "2. Imprime el título y el año de la película.\n",
    "\n",
    "3. Agrega una nueva clave `\"duracion\"` con el valor `105`.\n",
    "\n",
    "4. Modifica el valor de `\"año\"` y cámbialo a `2018`.\n",
    "\n",
    "5. Imprime el diccionario completo."
   ]
  },
  {
   "cell_type": "raw",
   "id": "a47bc1f1-404c-470f-b22a-5e430a342809",
   "metadata": {},
   "source": [
    "# 1. Crear el diccionario con información de la película\n",
    "pelicula = {\n",
    "    \"título\": \"Coco\",\n",
    "    \"año\": 2017,\n",
    "    \"director\": \"Lee Unkrich\"\n",
    "}\n",
    "\n",
    "# 2. Imprimir título y año\n",
    "print(\"Título:\", pelicula[\"título\"])\n",
    "print(\"Año:\", pelicula[\"año\"])\n",
    "\n",
    "# 3. Agregar duración\n",
    "pelicula[\"duracion\"] = 105  # duración en minutos\n",
    "\n",
    "# 4. Modificar el año\n",
    "pelicula[\"año\"] = 2018\n",
    "\n",
    "# 5. Imprimir todo el diccionario actualizado\n",
    "print(\"Información actualizada de la película:\")\n",
    "print(pelicula)\n"
   ]
  },
  {
   "cell_type": "markdown",
   "id": "23661828-89e6-472c-9086-dae4e0446b1a",
   "metadata": {},
   "source": [
    "## Ejercicio 2: Perfil de usuario\n",
    "\n",
    "**Instrucciones:**\n",
    "\n",
    "1. Crea un diccionario llamado `perfil` con estas claves y valores:\n",
    "   - nombre: tu nombre  \n",
    "   - pais: tu país  \n",
    "   - edad: tu edad  \n",
    "\n",
    "2. Accede al valor asociado a la clave `\"pais\"` y guárdalo en una variable llamada `mi_pais`.\n",
    "\n",
    "3. Agrega una nueva clave `\"lenguaje\"` con el valor `\"Python\"`.\n",
    "\n",
    "4. Imprime la variable `mi_pais` y luego imprime el diccionario completo.\n"
   ]
  },
  {
   "cell_type": "raw",
   "id": "d89c8810-3663-4a39-8e6b-bc09265666b7",
   "metadata": {},
   "source": [
    "# 1. Crear el diccionario del perfil\n",
    "perfil = {\n",
    "    \"nombre\": \"Nelson\",\n",
    "    \"pais\": \"El Salvador\",\n",
    "    \"edad\": 15\n",
    "}\n",
    "\n",
    "# 2. Guardar el país en una nueva variable\n",
    "mi_pais = perfil[\"pais\"]\n",
    "\n",
    "# 3. Agregar una nueva clave con lenguaje favorito\n",
    "perfil[\"lenguaje\"] = \"Python\"\n",
    "\n",
    "# 4. Imprimir los resultados\n",
    "print(\"Mi país es:\", mi_pais)\n",
    "print(\"Perfil completo:\")\n",
    "print(perfil)\n"
   ]
  },
  {
   "cell_type": "markdown",
   "id": "1f6306c4-8dfd-418b-8f75-b9a403074b29",
   "metadata": {},
   "source": [
    "## Ejercicio 3: Tu primera tarjeta de presentación en Python\n",
    "\n",
    "**Instrucciones:**\n",
    "\n",
    "1. Crea un diccionario llamado `tarjeta` con las siguientes claves y valores (puedes usar tus propios datos):\n",
    "\n",
    "   - nombre: tu nombre completo  \n",
    "   - profesion: a qué te dedicas o qué estudias  \n",
    "   - ciudad: ciudad en la que vives  \n",
    "   - hobbie: algo que te gusta hacer  \n",
    "\n",
    "2. Accede a cada uno de los valores y guárdalos en variables individuales.\n",
    "\n",
    "3. Usando esas variables, construye un mensaje como el siguiente y muéstralo con `print()`:\n",
    "\n"
   ]
  },
  {
   "cell_type": "raw",
   "id": "dd26d370-7109-421a-9ce3-1854c5e18ae7",
   "metadata": {},
   "source": [
    "# 1. Crear el diccionario con los datos del estudiante\n",
    "tarjeta = {\n",
    "    \"nombre\": \"Nelson Zepeda\",\n",
    "    \"profesion\": \"Ingeniería\",\n",
    "    \"ciudad\": \"San Salvador\",\n",
    "    \"hobbie\": \"Ver deportes\"\n",
    "}\n",
    "\n",
    "# 2. Guardar cada valor en una variable\n",
    "nombre = tarjeta[\"nombre\"]\n",
    "profesion = tarjeta[\"profesion\"]\n",
    "ciudad = tarjeta[\"ciudad\"]\n",
    "hobbie = tarjeta[\"hobbie\"]\n",
    "\n",
    "# 3. Construir el mensaje personalizado\n",
    "mensaje = f\"¡Hola! Soy {nombre}, estudio {profesion}, vivo en {ciudad} y me encanta {hobbie}.\"\n",
    "\n",
    "# Mostrar el mensaje\n",
    "print(mensaje)\n"
   ]
  }
 ],
 "metadata": {
  "kernelspec": {
   "display_name": "Python 3 (ipykernel)",
   "language": "python",
   "name": "python3"
  },
  "language_info": {
   "codemirror_mode": {
    "name": "ipython",
    "version": 3
   },
   "file_extension": ".py",
   "mimetype": "text/x-python",
   "name": "python",
   "nbconvert_exporter": "python",
   "pygments_lexer": "ipython3",
   "version": "3.10.4"
  }
 },
 "nbformat": 4,
 "nbformat_minor": 5
}
