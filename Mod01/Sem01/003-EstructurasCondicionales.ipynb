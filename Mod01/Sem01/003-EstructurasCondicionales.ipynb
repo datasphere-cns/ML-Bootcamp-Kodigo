{
 "cells": [
  {
   "cell_type": "markdown",
   "id": "c4e50282",
   "metadata": {},
   "source": [
    "\n",
    "# Estructuras Condicionales en Python\n",
    "\n",
    "Exploraremos las formas básicas de toma de decisiones que permiten a un programa ejecutar distintos bloques de código según las condiciones dadas.\n",
    "\n",
    "**Fecha:** 02/05/2025  \n",
    "**Autor:** Nelson Zepeda  \n"
   ]
  },
  {
   "cell_type": "markdown",
   "id": "7864de1a",
   "metadata": {},
   "source": [
    "\n",
    "## Marco Conceptual\n",
    "\n",
    "Las **estructuras condicionales** permiten que un programa tome decisiones según ciertas condiciones.  \n",
    "En Python, se utilizan principalmente las siguientes formas:\n",
    "\n",
    "### `if`\n",
    "Evalúa una condición. Si es verdadera, ejecuta un bloque de código.\n",
    "\n",
    "### `if-else`\n",
    "Evalúa una condición. Si es verdadera, ejecuta un bloque. Si es falsa, ejecuta otro.\n",
    "\n",
    "### `if-elif-else` (if anidados o múltiples condiciones)\n",
    "Permite evaluar múltiples condiciones una tras otra.\n",
    "\n",
    "### Simulación de `case` (estilo `switch`) con `if-elif`\n",
    "Python no tiene una estructura `switch-case`, pero puede simularse usando `if-elif`.\n",
    "\n",
    "Las condiciones se escriben usando operadores de comparación (`==`, `!=`, `<`, `>`, `<=`, `>=`) y operadores lógicos (`and`, `or`, `not`).\n"
   ]
  },
  {
   "cell_type": "markdown",
   "id": "196a71d6",
   "metadata": {},
   "source": [
    "## Condicional `if`"
   ]
  },
  {
   "cell_type": "code",
   "execution_count": 1,
   "id": "da3e85a1",
   "metadata": {},
   "outputs": [
    {
     "name": "stdout",
     "output_type": "stream",
     "text": [
      "Eres mayor de edad\n"
     ]
    }
   ],
   "source": [
    "\n",
    "edad = 20\n",
    "if edad >= 18:\n",
    "    print(\"Eres mayor de edad\")\n"
   ]
  },
  {
   "cell_type": "code",
   "execution_count": 2,
   "id": "297763de",
   "metadata": {},
   "outputs": [
    {
     "name": "stdout",
     "output_type": "stream",
     "text": [
      "Hace calor\n"
     ]
    }
   ],
   "source": [
    "\n",
    "temperatura = 30\n",
    "if temperatura > 25:\n",
    "    print(\"Hace calor\")\n"
   ]
  },
  {
   "cell_type": "markdown",
   "id": "3e55f7e8",
   "metadata": {},
   "source": [
    "## Condicional `if-else`"
   ]
  },
  {
   "cell_type": "code",
   "execution_count": 3,
   "id": "5576a444",
   "metadata": {},
   "outputs": [
    {
     "name": "stdout",
     "output_type": "stream",
     "text": [
      "Buenos días\n"
     ]
    }
   ],
   "source": [
    "\n",
    "hora = 10\n",
    "if hora < 12:\n",
    "    print(\"Buenos días\")\n",
    "else:\n",
    "    print(\"Buenas tardes\")\n"
   ]
  },
  {
   "cell_type": "code",
   "execution_count": 4,
   "id": "a60b690b",
   "metadata": {},
   "outputs": [
    {
     "name": "stdout",
     "output_type": "stream",
     "text": [
      "Aprobado\n"
     ]
    }
   ],
   "source": [
    "\n",
    "nota = 6\n",
    "if nota >= 5:\n",
    "    print(\"Aprobado\")\n",
    "else:\n",
    "    print(\"Reprobado\")\n"
   ]
  },
  {
   "cell_type": "markdown",
   "id": "03141b2d",
   "metadata": {},
   "source": [
    "## Condicional `if-elif-else` (anidados o múltiples condiciones)"
   ]
  },
  {
   "cell_type": "code",
   "execution_count": 5,
   "id": "2f840802",
   "metadata": {},
   "outputs": [
    {
     "name": "stdout",
     "output_type": "stream",
     "text": [
      "Adolescente\n"
     ]
    }
   ],
   "source": [
    "\n",
    "edad = 15\n",
    "if edad < 13:\n",
    "    print(\"Niño\")\n",
    "elif edad < 18:\n",
    "    print(\"Adolescente\")\n",
    "else:\n",
    "    print(\"Adulto\")\n"
   ]
  },
  {
   "cell_type": "code",
   "execution_count": 6,
   "id": "09348620",
   "metadata": {},
   "outputs": [
    {
     "name": "stdout",
     "output_type": "stream",
     "text": [
      "Es fin de semana\n"
     ]
    }
   ],
   "source": [
    "\n",
    "dia = \"sábado\"\n",
    "if dia == \"lunes\":\n",
    "    print(\"Inicio de semana\")\n",
    "elif dia == \"viernes\":\n",
    "    print(\"Casi fin de semana\")\n",
    "elif dia == \"sábado\" or dia == \"domingo\":\n",
    "    print(\"Es fin de semana\")\n",
    "else:\n",
    "    print(\"Día regular\")\n"
   ]
  },
  {
   "cell_type": "markdown",
   "id": "cb85caca",
   "metadata": {},
   "source": [
    "## Simulación de `case` con `if-elif`"
   ]
  },
  {
   "cell_type": "code",
   "execution_count": 7,
   "id": "55cf1b66",
   "metadata": {},
   "outputs": [
    {
     "name": "stdout",
     "output_type": "stream",
     "text": [
      "Elegiste la opción 2\n"
     ]
    }
   ],
   "source": [
    "\n",
    "opcion = 2\n",
    "if opcion == 1:\n",
    "    print(\"Elegiste la opción 1\")\n",
    "elif opcion == 2:\n",
    "    print(\"Elegiste la opción 2\")\n",
    "elif opcion == 3:\n",
    "    print(\"Elegiste la opción 3\")\n",
    "else:\n",
    "    print(\"Opción no válida\")\n"
   ]
  },
  {
   "cell_type": "code",
   "execution_count": 8,
   "id": "07a8d275",
   "metadata": {},
   "outputs": [
    {
     "name": "stdout",
     "output_type": "stream",
     "text": [
      "Siga\n"
     ]
    }
   ],
   "source": [
    "\n",
    "color = \"verde\"\n",
    "if color == \"rojo\":\n",
    "    print(\"Alto\")\n",
    "elif color == \"amarillo\":\n",
    "    print(\"Precaución\")\n",
    "elif color == \"verde\":\n",
    "    print(\"Siga\")\n",
    "else:\n",
    "    print(\"Color no reconocido\")\n"
   ]
  },
  {
   "cell_type": "markdown",
   "id": "6ed191bf-706e-456e-934f-06018c15a9a2",
   "metadata": {},
   "source": [
    "## Ejercicio 1: Edad mínima para votar\n",
    "\n",
    "Crea una variable llamada `edad`.  \n",
    "Usa una condición `if` para imprimir el mensaje `\"Puedes votar\"` si la edad es mayor o igual a 18.\n"
   ]
  },
  {
   "cell_type": "raw",
   "id": "fee388d3-92f8-4fa2-8528-634c082b4436",
   "metadata": {},
   "source": [
    "edad = 20\n",
    "if edad >= 18:\n",
    "    print(\"Puedes votar\")\n"
   ]
  },
  {
   "cell_type": "markdown",
   "id": "0eac64ff-5d06-4a1b-bcae-3b7679bf4799",
   "metadata": {},
   "source": [
    "## Ejercicio 2: Categoría de edad\n",
    "\n",
    "Crea una variable `edad`.  \n",
    "Usa `if-elif-else` para clasificar:\n",
    "- Menor de 13 → \"Niño\"  \n",
    "- Entre 13 y 17 → \"Adolescente\"  \n",
    "- Entre 18 y 59 → \"Adulto\"  \n",
    "- 60 o más → \"Adulto mayor\"\n"
   ]
  },
  {
   "cell_type": "raw",
   "id": "c60dfd61-410f-4f73-b39d-58b71e8bf923",
   "metadata": {},
   "source": [
    "edad = 65\n",
    "\n",
    "if edad < 13:\n",
    "    print(\"Niño\")\n",
    "elif edad < 18:\n",
    "    print(\"Adolescente\")\n",
    "elif edad < 60:\n",
    "    print(\"Adulto\")\n",
    "else:\n",
    "    print(\"Adulto mayor\")\n"
   ]
  }
 ],
 "metadata": {
  "kernelspec": {
   "display_name": "Python 3 (ipykernel)",
   "language": "python",
   "name": "python3"
  },
  "language_info": {
   "codemirror_mode": {
    "name": "ipython",
    "version": 3
   },
   "file_extension": ".py",
   "mimetype": "text/x-python",
   "name": "python",
   "nbconvert_exporter": "python",
   "pygments_lexer": "ipython3",
   "version": "3.10.4"
  }
 },
 "nbformat": 4,
 "nbformat_minor": 5
}
